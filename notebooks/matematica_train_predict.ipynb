{
 "cells": [
  {
   "cell_type": "markdown",
   "id": "d2eca808",
   "metadata": {},
   "source": [
    "# Otimizando Regressor para Predição das Notas de Matemática"
   ]
  },
  {
   "cell_type": "code",
   "execution_count": 34,
   "id": "3ba6d6c2",
   "metadata": {},
   "outputs": [],
   "source": [
    "## --- Bibliotecas para estrutura de dados\n",
    "import pandas as pd\n",
    "import numpy as np\n",
    "\n",
    "## --- Funções de pre-processamento\n",
    "from sklearn.pipeline import make_pipeline\n",
    "from sklearn.preprocessing import LabelEncoder, StandardScaler\n",
    "from sklearn.model_selection import train_test_split, KFold\n",
    "from sklearn.metrics import mean_squared_error\n",
    "\n",
    "## --- Bibliotecas de machine learning\n",
    "from sklearn.cluster import KMeans\n",
    "import lightgbm as lgbm\n",
    "\n",
    "## --- Funções definidas pelo usuário\n",
    "from subroutines import reduce_mem_usage\n",
    "\n",
    "import warnings\n",
    "import pickle\n",
    "warnings.filterwarnings('ignore')"
   ]
  },
  {
   "cell_type": "code",
   "execution_count": 35,
   "id": "3de8cd18",
   "metadata": {},
   "outputs": [],
   "source": [
    "## variáveis relevantes para leitura\n",
    "\n",
    "## --- notas\n",
    "\n",
    "notas = ['NU_NOTA_MT']\n",
    "\n",
    "### --- variáveis gerais\n",
    "list_vars = np.array(['Q001','Q002', 'Q003', 'Q004', 'Q005', 'Q006', 'Q007', 'Q008', 'Q009', 'Q010', 'Q011','Q012', 'Q013',\n",
    "            'Q014', 'Q015', 'Q016', 'Q017', 'Q018', 'Q019', 'Q020', 'Q021','Q022', 'Q023', 'Q024', 'Q025',\n",
    "            'IN_ACESSO', 'TP_ANO_CONCLUIU','TP_SEXO', 'TP_DEPENDENCIA_ADM_ESC','TP_LINGUA',\n",
    "            'NU_IDADE', 'TP_ESCOLA', 'TP_COR_RACA', 'TP_ST_CONCLUSAO', 'IN_LIBRAS',\n",
    "            'CO_MUNICIPIO_RESIDENCIA', 'CO_ESCOLA', 'CO_MUNICIPIO_PROVA',\n",
    "            'TP_ENSINO', 'SG_UF_PROVA', 'TP_ESTADO_CIVIL', 'TP_NACIONALIDADE',\n",
    "            'IN_SEM_RECURSO', 'IN_SALA_ESPECIAL', 'SG_UF_NASCIMENTO', 'SG_UF_ESC',\n",
    "            'IN_TREINEIRO', 'IN_DEFICIT_ATENCAO', 'TP_SIT_FUNC_ESC',\n",
    "            'CO_MUNICIPIO_ESC', 'IN_LEDOR', 'IN_TEMPO_ADICIONAL',\n",
    "            'IN_DEFICIENCIA_AUDITIVA', 'TP_LOCALIZACAO_ESC', 'IN_DEFICIENCIA_MENTAL',\n",
    "            'IN_SURDEZ', 'IN_AUTISMO', 'IN_DEFICIENCIA_FISICA', 'IN_TRANSCRICAO',\n",
    "            'CO_MUNICIPIO_NASCIMENTO', 'CO_UF_NASCIMENTO', 'CO_UF_PROVA',\n",
    "            'IN_MAQUINA_BRAILE', 'TP_PRESENCA_MT', 'TP_PRESENCA_LC',\n",
    "            'TP_PRESENCA_CN', 'TP_PRESENCA_CH', 'TP_STATUS_REDACAO'])\n",
    "\n"
   ]
  },
  {
   "cell_type": "code",
   "execution_count": 36,
   "id": "fb159f54",
   "metadata": {},
   "outputs": [],
   "source": [
    "## --- lendo dados de treino\n",
    "reader = pd.read_csv('../input/train.csv', engine='c', chunksize=50000, \n",
    "                     nrows=350000, usecols=np.append(list_vars, notas) )\n",
    "\n",
    "df = pd.DataFrame(columns=pd.read_csv('../input/train.csv', nrows=2, \n",
    "                                      usecols=np.append(list_vars, notas)).columns)\n",
    "for chunk in reader:\n",
    "    df = pd.concat([df ,reduce_mem_usage(chunk)])"
   ]
  },
  {
   "cell_type": "code",
   "execution_count": 37,
   "id": "b65b2f4c",
   "metadata": {},
   "outputs": [],
   "source": [
    "df_idhm_ifdm = pd.read_csv('https://raw.githubusercontent.com/rrpronaldo/quality_education/main/dataset_idhm_ifdm.csv')\n",
    "dict_idhm = dict(zip(df_idhm_ifdm.CO_MUNICIPIO,df_idhm_ifdm.VR_IDHM))\n",
    "df['VR_IDHM'] = df.CO_MUNICIPIO_RESIDENCIA.map(dict_idhm)\n",
    "\n",
    "df_ifdm = pd.read_csv('https://raw.githubusercontent.com/rrpronaldo/quality_education/main/dataset_idhm_ifdm.csv')\n",
    "dict_ifdm = dict(zip(df_ifdm.CO_MUNICIPIO,df_ifdm.IFDM_2010))\n",
    "df['VR_IFDM'] = df.CO_MUNICIPIO_RESIDENCIA.map(dict_ifdm)"
   ]
  },
  {
   "cell_type": "markdown",
   "id": "73360e80",
   "metadata": {},
   "source": [
    "### Feature Engineering"
   ]
  },
  {
   "cell_type": "code",
   "execution_count": 38,
   "id": "d8bf1018",
   "metadata": {},
   "outputs": [],
   "source": [
    "## --- variáveis para codificar\n",
    "list_toenc = np.array(['Q006', 'Q024', 'Q008', 'Q003', 'Q004', 'TP_LINGUA', 'Q010',\n",
    "                       'Q002', 'Q018', 'Q007', 'Q013', 'TP_SEXO', 'Q001', 'Q019', 'Q016',\n",
    "                       'Q021', 'Q014', 'Q022', 'CO_ESCOLA', 'Q025','Q005',\n",
    "                       'CO_MUNICIPIO_RESIDENCIA', 'CO_UF_PROVA', 'CO_MUNICIPIO_PROVA',\n",
    "                       'Q009', 'CO_MUNICIPIO_ESC', 'CO_UF_NASCIMENTO', 'SG_UF_ESC',\n",
    "                       'Q023', 'CO_MUNICIPIO_NASCIMENTO', 'Q017', 'Q012',\n",
    "                       'SG_UF_NASCIMENTO', 'SG_UF_PROVA', 'Q011', 'Q015', 'Q020'])\n",
    "\n",
    "## --- variáveis mais relevantes para matemática\n",
    "ft_mt = np.array(['TP_PRESENCA_MT', 'TP_PRESENCA_CN', 'Q006', 'Q024', 'NU_IDADE', 'Q008', 'Q003', 'Q004', 'TP_LINGUA', 'TP_ST_CONCLUSAO', 'Q010', 'Q002', 'TP_ESCOLA', 'TP_ANO_CONCLUIU', 'Q018', 'TP_DEPENDENCIA_ADM_ESC','Q007', 'Q013','TP_SEXO', 'Q001', 'Q019', 'Q016', 'Q021', 'Q014', 'Q022', 'CO_ESCOLA', 'TP_COR_RACA', 'Q025', 'CO_MUNICIPIO_RESIDENCIA', 'CO_UF_PROVA', 'CO_MUNICIPIO_PROVA', 'Q009', 'IN_TREINEIRO', 'CO_MUNICIPIO_ESC', 'TP_ENSINO', 'CO_UF_NASCIMENTO', 'SG_UF_ESC', 'Q023', 'CO_MUNICIPIO_NASCIMENTO', 'TP_SIT_FUNC_ESC', 'Q017', 'TP_ESTADO_CIVIL', 'Q012', 'SG_UF_NASCIMENTO', 'TP_LOCALIZACAO_ESC', 'Q005', 'SG_UF_PROVA', 'Q011', 'TP_NACIONALIDADE', 'Q015', 'Q020','IN_ACESSO', 'IN_LIBRAS', 'IN_SEM_RECURSO', 'IN_SALA_ESPECIAL'] )\n",
    "\n",
    "ft_clust = ['Q006', 'Q024', 'Q008', 'Q003']"
   ]
  },
  {
   "cell_type": "code",
   "execution_count": 39,
   "id": "fa6d2d39",
   "metadata": {},
   "outputs": [],
   "source": [
    "## --- encoder\n",
    "is_to_enc = 0\n",
    "if is_to_enc == 1:\n",
    "    ##encoding\n",
    "    enc1 = reduce_mem_usage( pd.read_csv('../input/train.csv', engine='c',\n",
    "                                       usecols=list_toenc) )\n",
    "    enc2 = reduce_mem_usage( pd.read_csv('../input/test.csv', engine='c',\n",
    "                                       usecols=list_toenc) )\n",
    "\n",
    "    enc = pd.concat([enc1,enc2])\n",
    "    del enc1, enc2\n",
    "    encoders = []\n",
    "    for coluna in list_toenc:\n",
    "        if enc[coluna].isna().any() == True:\n",
    "            encoders.append( LabelEncoder().fit( list(set(enc[coluna].astype(str).fillna(\"missing\").replace(\"nan\", \"missing\").unique().tolist())) ) )\n",
    "        else:\n",
    "            encoders.append( LabelEncoder().fit( list(set(enc[coluna].astype(str).unique().tolist())) ) )\n",
    "    del enc\n",
    "    ## saving encoders\n",
    "    for enc, n in zip( encoders, np.arange(len(encoders)) ):\n",
    "        np.save('./Encoders/matematica/classes_%s.npy' % n, enc.classes_)\n",
    "else:\n",
    "    encoders = []\n",
    "    for n in np.arange(len(list_toenc)):\n",
    "        enc = LabelEncoder()\n",
    "        enc.classes_ = np.load('./Encoders/matematica/classes_%s.npy' % n)\n",
    "        encoders.append(enc)"
   ]
  },
  {
   "cell_type": "code",
   "execution_count": 40,
   "id": "64792f98",
   "metadata": {},
   "outputs": [],
   "source": [
    "## --- substitui notas missing por zero\n",
    "for coluna in notas:\n",
    "    df[coluna] = df[coluna].fillna(0)\n",
    "    \n",
    "## --- substitui valores NaN (variáveis numéricas)  por inteiro arbitrário \n",
    "\n",
    "for coluna in df[list_vars].loc[:2,~df[list_vars].columns.isin(list_toenc)].columns:\n",
    "    df[coluna] = df[coluna].fillna(-32768).astype('int16')\n",
    "    \n",
    "i=0\n",
    "for coluna in list_toenc:\n",
    "    df[coluna] = df[coluna].astype(str).fillna(\"missing\").replace(\"nan\", \"missing\").astype('category')\n",
    "    df[coluna] = encoders[i].transform(df[coluna])\n",
    "    i+=1"
   ]
  },
  {
   "cell_type": "code",
   "execution_count": 41,
   "id": "52ca9ec6",
   "metadata": {},
   "outputs": [],
   "source": [
    "## --- redução de cardinalidade\n",
    "\"\"\"df['NU_IDADE'] = df['NU_IDADE'].apply(lambda x: x if x<35 else 35)\n",
    "\"\"\"\n",
    "\"\"\"df['Q004'] = df['Q004'].apply(lambda x: 0 if x==0 else\n",
    "                                        1 if (x==1) | (x==2) | (x==5) else x-1)\"\"\"\n",
    "\n",
    "df['Q002'] = df['Q002'].apply(lambda x: 1 if (x==1) | (x==7) else x)\n",
    "\n",
    "\"\"\"df['TP_ANO_CONCLUIU'] = df['TP_ANO_CONCLUIU'].apply(lambda x: x if x<4 else 4)\"\"\"\n",
    "\n",
    "df['Q003'] = df['Q003'].apply(lambda x: 0 if x==0 else\n",
    "                                        1 if (x==1) | (x==2) | (x==5) else x-1)"
   ]
  },
  {
   "cell_type": "markdown",
   "id": "2ccbccb9",
   "metadata": {},
   "source": [
    "### Treino do Modelo"
   ]
  },
  {
   "cell_type": "code",
   "execution_count": 42,
   "id": "5fcb528f",
   "metadata": {},
   "outputs": [],
   "source": [
    "## --- instanciamento do agrupador\n",
    "nclust = 5\n",
    "model = make_pipeline(StandardScaler(), KMeans(n_clusters=nclust))\n",
    "model.fit(df[ft_clust])\n",
    "\n",
    "# atribui cada amostra a um grupo\n",
    "df['CLUSTER'] = model.predict(df[ft_clust])"
   ]
  },
  {
   "cell_type": "code",
   "execution_count": 43,
   "id": "c1fddd97",
   "metadata": {},
   "outputs": [],
   "source": [
    "regressor_mt = make_pipeline(StandardScaler(), lgbm.LGBMRegressor(boosting_type='gbdt', \n",
    "                                                                   learning_rate=0.15, \n",
    "                                                                   max_depth=-1, \n",
    "                                                                   n_estimators=250))"
   ]
  },
  {
   "cell_type": "code",
   "execution_count": 44,
   "id": "bdd3999f",
   "metadata": {},
   "outputs": [
    {
     "data": {
      "text/plain": [
       "\"kf = KFold(n_splits=5, random_state=3, shuffle=True)\\n\\nxval_err = 0\\ny = df['NU_NOTA_MT']\\nfor train_index, test_index in kf.split(df[ft_mt]):\\n    X_train, X_test = df[ft_mt].iloc[train_index,:], df[ft_mt].iloc[test_index,:]\\n    y_train, y_test = y[train_index], y[test_index]\\n    \\n    regressor_mt.fit(X_train, y_train)\\n    y_pred = pd.Series(regressor_mt.predict(X_test))\\n    #y_pred.iloc[X_test[X_test['TP_PRESENCA_CH']!=1].reset_index(drop=True).index] = 0\\n    xval_err += np.sqrt(mean_squared_error(y_test, y_pred))\\n\\nrmse_5cv = xval_err/5\\nrmse_5cv\""
      ]
     },
     "execution_count": 44,
     "metadata": {},
     "output_type": "execute_result"
    }
   ],
   "source": [
    "kf = KFold(n_splits=5, random_state=3, shuffle=True)\n",
    "\n",
    "xval_err = 0\n",
    "y = df['NU_NOTA_MT']\n",
    "for train_index, test_index in kf.split(df[np.append(ft_mt,['CLUSTER','VR_IFDM','VR_IDHM'])]):\n",
    "    X_train, X_test = df[np.append(ft_mt,['CLUSTER','VR_IFDM','VR_IDHM'])].iloc[train_index,:], df[np.append(ft_mt,['CLUSTER','VR_IFDM','VR_IDHM'])].iloc[test_index,:]\n",
    "    y_train, y_test = y[train_index], y[test_index]\n",
    "    \n",
    "    regressor_mt.fit(X_train, y_train)\n",
    "    y_pred = pd.Series(regressor_mt.predict(X_test))\n",
    "    #y_pred.iloc[X_test[X_test['TP_PRESENCA_CH']!=1].reset_index(drop=True).index] = 0\n",
    "    xval_err += np.sqrt(mean_squared_error(y_test, y_pred))\n",
    "\n",
    "rmse_5cv = xval_err/5\n",
    "rmse_5cv\n",
    "\n",
    "\"\"\"kf = KFold(n_splits=5, random_state=3, shuffle=True)\n",
    "\n",
    "xval_err = 0\n",
    "y = df['NU_NOTA_MT']\n",
    "for train_index, test_index in kf.split(df[ft_mt]):\n",
    "    X_train, X_test = df[ft_mt].iloc[train_index,:], df[ft_mt].iloc[test_index,:]\n",
    "    y_train, y_test = y[train_index], y[test_index]\n",
    "    \n",
    "    regressor_mt.fit(X_train, y_train)\n",
    "    y_pred = pd.Series(regressor_mt.predict(X_test))\n",
    "    #y_pred.iloc[X_test[X_test['TP_PRESENCA_CH']!=1].reset_index(drop=True).index] = 0\n",
    "    xval_err += np.sqrt(mean_squared_error(y_test, y_pred))\n",
    "\n",
    "rmse_5cv = xval_err/5\n",
    "rmse_5cv\"\"\""
   ]
  },
  {
   "cell_type": "code",
   "execution_count": 45,
   "id": "c99d87ce",
   "metadata": {},
   "outputs": [
    {
     "data": {
      "text/plain": [
       "74.04688964356157"
      ]
     },
     "execution_count": 45,
     "metadata": {},
     "output_type": "execute_result"
    }
   ],
   "source": [
    "rmse_5cv"
   ]
  },
  {
   "cell_type": "code",
   "execution_count": null,
   "id": "6406f396",
   "metadata": {},
   "outputs": [],
   "source": [
    "\"\"\"## --- fit do modelo e gravação dos parâmetros em arquivo\n",
    "regressor_mt.fit(df[np.append(ft_mt,'CLUSTER')], \n",
    "                 df['NU_NOTA_MT'])\n",
    "pickle.dump(model, open('./models/matematica.sav', 'wb'))\n",
    "del df\"\"\""
   ]
  },
  {
   "cell_type": "code",
   "execution_count": null,
   "id": "39bd5974",
   "metadata": {},
   "outputs": [],
   "source": [
    "X_train, X_test, y_train, y_test = train_test_split(df[np.append(ft_mt,'CLUSTER')],\n",
    "                                                    df['NU_NOTA_MT'],\n",
    "                                                    random_state=42)\n",
    "\n",
    "regressor_mt.fit(X_train, y_train)\n",
    "\n",
    "y_pred = pd.Series(regressor_mt.predict(X_test))\n",
    "#y_pred.iloc[X_test[X_test['TP_PRESENCA_MT']!=1].reset_index(drop=True).index] = 0\n",
    "np.sqrt(mean_squared_error(y_test, y_pred))"
   ]
  },
  {
   "cell_type": "markdown",
   "id": "e55ef71c",
   "metadata": {},
   "source": [
    "## Predição das notas de Matemática"
   ]
  },
  {
   "cell_type": "code",
   "execution_count": 19,
   "id": "eb484920",
   "metadata": {},
   "outputs": [],
   "source": [
    "submissions = pd.read_csv('./submissions.csv', engine='c')\n",
    "df_mt = reduce_mem_usage( pd.read_csv('../input/test.csv', engine='c', usecols=list_vars) )"
   ]
  },
  {
   "cell_type": "code",
   "execution_count": 20,
   "id": "9300720c",
   "metadata": {},
   "outputs": [],
   "source": [
    "## --- substitui valores NaN (variáveis numéricas)  por inteiro arbitrário \n",
    "\n",
    "for coluna in df_mt.loc[:2,~df_mt.columns.isin(list_toenc)].columns:\n",
    "    df_mt[coluna] = df_mt[coluna].fillna(-32768).astype('int16')\n",
    "    \n",
    "i=0\n",
    "for coluna in list_toenc:\n",
    "    df_mt[coluna] = df_mt[coluna].astype(str).fillna(\"missing\").replace(\"nan\", \"missing\").astype('category')\n",
    "    df_mt[coluna] = encoders[i].transform(df_mt[coluna])\n",
    "    i+=1"
   ]
  },
  {
   "cell_type": "code",
   "execution_count": 22,
   "id": "fc1d2cc7",
   "metadata": {},
   "outputs": [],
   "source": [
    "## --- redução de cardinalidade\n",
    "df_mt['NU_IDADE'] = df_mt['NU_IDADE'].apply(lambda x: x if x<35 else 35)\n",
    "\n",
    "df_mt['Q004'] = df_mt['Q004'].apply(lambda x: 0 if x==0 else\n",
    "                                        1 if (x==1) | (x==2) | (x==5) else x-1)\n",
    "\n",
    "df_mt['Q002'] = df_mt['Q002'].apply(lambda x: 1 if (x==1) | (x==7) else x)\n",
    "\n",
    "df_mt['TP_ANO_CONCLUIU'] = df_mt['TP_ANO_CONCLUIU'].apply(lambda x: x if x<4 else 4)\n",
    "\n",
    "df_mt['Q003'] = df_mt['Q003'].apply(lambda x: 0 if x==0 else\n",
    "                                        1 if (x==1) | (x==2) | (x==5) else x-1)"
   ]
  },
  {
   "cell_type": "code",
   "execution_count": 23,
   "id": "eb61c86b",
   "metadata": {},
   "outputs": [],
   "source": [
    "## clusterização\n",
    "df_mt['CLUSTER'] = model.predict(df_mt[ft_clust])\n",
    "## predição\n",
    "submissions['NU_NOTA_MT'] = regressor_mt.predict(df_mt[np.append(ft_mt,'CLUSTER')])\n",
    "submissions['NU_NOTA_MT'].iloc[df_mt[df_mt['TP_PRESENCA_MT']!=1].index] = 0\n",
    "submissions.to_csv('./submissions.csv', index=False)"
   ]
  },
  {
   "cell_type": "code",
   "execution_count": null,
   "id": "1cbfa234",
   "metadata": {},
   "outputs": [],
   "source": []
  },
  {
   "cell_type": "code",
   "execution_count": null,
   "id": "aa09a612",
   "metadata": {},
   "outputs": [],
   "source": []
  }
 ],
 "metadata": {
  "kernelspec": {
   "display_name": "Python 3 (ipykernel)",
   "language": "python",
   "name": "python3"
  },
  "language_info": {
   "codemirror_mode": {
    "name": "ipython",
    "version": 3
   },
   "file_extension": ".py",
   "mimetype": "text/x-python",
   "name": "python",
   "nbconvert_exporter": "python",
   "pygments_lexer": "ipython3",
   "version": "3.7.11"
  }
 },
 "nbformat": 4,
 "nbformat_minor": 5
}
