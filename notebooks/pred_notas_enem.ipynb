{
 "cells": [
  {
   "cell_type": "code",
   "execution_count": null,
   "metadata": {},
   "outputs": [],
   "source": [
    "import pandas as pd\n",
    "import numpy as np\n",
    "import matplotlib.pyplot as plt\n",
    "\n",
    "from seaborn import barplot"
   ]
  },
  {
   "cell_type": "code",
   "execution_count": null,
   "metadata": {},
   "outputs": [],
   "source": [
    "## to drop\n",
    "\n",
    "notas = np.array(['NU_NOTA_CN','NU_NOTA_CH',\n",
    "                  'NU_NOTA_LC','NU_NOTA_MT',\n",
    "                  'NU_NOTA_REDACAO'])\n",
    "\n",
    "drop_dados = [\n",
    "    'NU_INSCRICAO', 'NO_MUNICIPIO_RESIDENCIA', 'SG_UF_RESIDENCIA',\n",
    "    'CO_MUNICIPIO_NASCIMENTO','NO_MUNICIPIO_NASCIMENTO','CO_UF_NASCIMENTO',\n",
    "    'SG_UF_NASCIMENTO']\n",
    "\n",
    "drop_escola = [\n",
    "    'CO_MUNICIPIO_ESC', 'NO_MUNICIPIO_ESC', 'CO_UF_ESC', 'SG_UF_ESC']\n",
    "\n",
    "drop_prova = [\n",
    "    'NO_MUNICIPIO_PROVA', 'CO_UF_PROVA', 'SG_UF_PROVA']\n",
    "\n",
    "drop_deficiencia = [\n",
    "    'IN_BAIXA_VISAO','IN_CEGUEIRA','IN_SURDEZ','IN_DEFICIENCIA_AUDITIVA',\n",
    "    'IN_SURDO_CEGUEIRA','IN_DEFICIENCIA_FISICA','IN_DEFICIENCIA_MENTAL',\n",
    "    'IN_DEFICIT_ATENCAO','IN_DISLEXIA','IN_DISCALCULIA','IN_AUTISMO',\n",
    "    'IN_VISAO_MONOCULAR','IN_OUTRA_DEF']\n",
    "\n",
    "drop_especifico = [\n",
    "    'IN_GESTANTE','IN_LACTANTE','IN_IDOSO','IN_ESTUDA_CLASSE_HOSPITALAR']\n",
    "\n",
    "drop_especializado = [\n",
    "    'IN_SEM_RECURSO','IN_ACESSO','IN_BRAILLE','IN_AMPLIADA_24','IN_AMPLIADA_18','IN_LEDOR',\n",
    "    'IN_ACESSO','IN_TRANSCRICAO','IN_LIBRAS','IN_TEMPO_ADICIONAL',\n",
    "    'IN_LEITURA_LABIAL','IN_MESA_CADEIRA_RODAS','IN_MESA_CADEIRA_SEPARADA',\n",
    "    'IN_APOIO_PERNA','IN_GUIA_INTERPRETE','IN_COMPUTADOR','IN_CADEIRA_ESPECIAL',\n",
    "    'IN_CADEIRA_CANHOTO','IN_CADEIRA_ACOLCHOADA','IN_PROVA_DEITADO','IN_MOBILIARIO_OBESO',\n",
    "    'IN_LAMINA_OVERLAY','IN_PROTETOR_AURICULAR','IN_MEDIDOR_GLICOSE','IN_MAQUINA_BRAILE',\n",
    "    'IN_SOROBAN','IN_MARCA_PASSO','IN_SONDA','IN_MEDICAMENTOS','IN_SALA_INDIVIDUAL',\n",
    "    'IN_SALA_ESPECIAL','IN_SALA_ACOMPANHANTE','IN_MOBILIARIO_ESPECIFICO',\n",
    "    'IN_MATERIAL_ESPECIFICO','IN_NOME_SOCIAL']\n",
    "\n"
   ]
  },
  {
   "cell_type": "code",
   "execution_count": null,
   "metadata": {},
   "outputs": [],
   "source": [
    "def eng_scores(chunk):\n",
    "    score_deficiencia = chunk[drop_deficiencia].sum(axis=1).astype('int8')\n",
    "    score_especifico = chunk[drop_especifico].sum(axis=1).astype('int8')\n",
    "    score_especializado = chunk[drop_especializado[1:]].sum(axis=1).astype('int8')\n",
    "    \n",
    "    return (score_deficiencia,\n",
    "            score_especifico,\n",
    "            score_especializado)"
   ]
  },
  {
   "cell_type": "code",
   "execution_count": null,
   "metadata": {},
   "outputs": [],
   "source": [
    "#df = pd.read_csv('train.csv',nrows=1)\n",
    "\n",
    "reader = pd.read_csv('train.csv', nrows=50000, chunksize=5000)\n",
    "\n",
    "with open('train_1st_eng.csv', 'w') as outFile:\n",
    "           \n",
    "    for chunk in reader:\n",
    "\n",
    "        chunk.dropna(axis=0, how='all', inplace=True)\n",
    "\n",
    "        ## -- conversão de tipos\n",
    "        chunk['NU_IDADE'] = chunk['NU_IDADE'].fillna(chunk['NU_IDADE'].mean()).astype('int8')\n",
    "        chunk['TP_STATUS_REDACAO'] = chunk['TP_STATUS_REDACAO'].fillna(0).astype('int8')\n",
    "\n",
    "        ## -- feature engineering\n",
    "        chunk['SCOR_DEFICIENCIA'], chunk['SCOR_ESPECIFICO'], chunk['SCOR_ESPECIALIZADO'] = eng_scores( chunk )\n",
    "        chunk['NU_MED_NOTAS'] = chunk[notas].mean(axis=1)\n",
    "\n",
    "        ## -- eliminação de dados pouco relevantes\n",
    "        chunk.drop(np.concatenate((drop_deficiencia,\n",
    "                        drop_especifico,\n",
    "                        drop_especializado,\n",
    "                        drop_dados,\n",
    "                        drop_prova), axis=None), axis=1, inplace=True)\n",
    "        chunk.drop(['TP_LINGUA'], axis=1, inplace=True)\n",
    "\n",
    "        ## -- removendo dados dos ausentes e eliminados\n",
    "        chunk = chunk[(chunk['TP_PRESENCA_CN']+chunk['TP_PRESENCA_CH']+\n",
    "                 chunk['TP_PRESENCA_LC']+chunk['TP_PRESENCA_MT']) ==4 ].copy()\n",
    "\n",
    "        ## -- removendo redações anuladas (2,3,4,6,7,8,9)\n",
    "        chunk = chunk[chunk['TP_STATUS_REDACAO']==1].copy()\n",
    "        \n",
    "        chunk.to_csv(outFile, header=False)"
   ]
  },
  {
   "cell_type": "code",
   "execution_count": null,
   "metadata": {},
   "outputs": [],
   "source": [
    "## -- removendo colunas com > 40% de missing values (REDO)\n",
    "\n",
    "#df = pd.read_csv('train_1st_eng.csv', header=None)\n",
    "#to_drop = df.columns[df.isna().sum()/len(df) > 0.4]\n",
    "#df.drop(to_drop, axis=1, inplace=True)\n",
    "#print('Colunas removidas: ', to_drop)\"\"\""
   ]
  },
  {
   "cell_type": "code",
   "execution_count": null,
   "metadata": {},
   "outputs": [],
   "source": [
    "## -- EDA\n",
    "\n",
    "fig, ax = plt.subplots(2,3, figsize=(15,10))\n",
    "\n",
    "for axes, qn in zip(ax.reshape(-1), np.arange(1,7)):\n",
    "    question = 'Q00'+str(qn)\n",
    "    barplot(x=question, y='NU_MED_NOTAS',\n",
    "            data=df[['NU_MED_NOTAS',question]], \n",
    "            order=df[question].sort_values().unique(),\n",
    "            ax= axes)"
   ]
  },
  {
   "cell_type": "code",
   "execution_count": null,
   "metadata": {},
   "outputs": [],
   "source": [
    "## -- features socioeconomicos\n",
    "\n",
    "df['Q001'] = df['Q001'].apply(lambda x: 1 if (x=='F') or (x=='G') \n",
    "                                          else 0).astype('int8')\n",
    "\n",
    "df['Q002'] = df['Q002'].apply(lambda x: 1 if (x=='F') or (x=='G') \n",
    "                                          else 0).astype('int8')\n",
    "\n",
    "df['Q01_2'] = df['Q001'] + df['Q002']\n",
    "df.drop(['Q001','Q002'], axis=1, inplace=True)\n",
    "\n",
    "df['Q003'] = df['Q003'].apply(lambda x: 1 if (x=='D') or (x=='E') \n",
    "                                          else 0).astype('int8')\n",
    "\n",
    "df['Q004'] = df['Q004'].apply(lambda x: 1 if (x=='D') or (x=='E') \n",
    "                                          else 0).astype('int8')\n",
    "\n",
    "df['Q03_4'] = df['Q003'] + df['Q004']\n",
    "df.drop(['Q003','Q004'], axis=1, inplace=True)\n",
    "\n",
    "df['Q005'] = df['Q005'].apply(lambda x: 0 if (x<=4) else\n",
    "                                        1 if (x>4) and (x<=8) else \n",
    "                                        2 if (x>8) and (x<20) else 3).astype('int8')\n",
    "\n",
    "df['Q006'] = df['Q006'].apply(lambda x: 0 if (x<='C') else\n",
    "                                        1 if (x>'C') and (x<='F') else\n",
    "                                        2 if (x>'F') and (x<='I') else 3).astype('int8')"
   ]
  },
  {
   "cell_type": "code",
   "execution_count": null,
   "metadata": {},
   "outputs": [],
   "source": [
    "df.memory_usage().sum() / (1024**2)"
   ]
  },
  {
   "cell_type": "code",
   "execution_count": null,
   "metadata": {},
   "outputs": [],
   "source": [
    "fig, ax = plt.subplots(1,2, figsize=(10,5))\n",
    "\n",
    "for axes, qn in zip(ax.reshape(-1), ['Q01_2','Q03_4']):\n",
    "    barplot(x=qn, y='NU_MED_NOTAS',\n",
    "            data=df[['NU_MED_NOTAS',qn]], \n",
    "            order=df[qn].sort_values().unique(),\n",
    "            ax= axes)"
   ]
  },
  {
   "cell_type": "code",
   "execution_count": null,
   "metadata": {},
   "outputs": [],
   "source": [
    "fig, ax = plt.subplots(1,2, figsize=(10,5))\n",
    "\n",
    "for axes, qn in zip(ax.reshape(-1), ['Q005','Q006']):\n",
    "    barplot(x=qn, y='NU_MED_NOTAS',\n",
    "            data=df[['NU_MED_NOTAS',qn]], \n",
    "            order=df[qn].sort_values().unique(),\n",
    "            ax= axes)"
   ]
  },
  {
   "cell_type": "code",
   "execution_count": null,
   "metadata": {},
   "outputs": [],
   "source": [
    "    barplot(x='CO_UF_RESIDENCIA', y='NU_MED_NOTAS',\n",
    "            data=df, \n",
    "            order=df['CO_UF_RESIDENCIA'].sort_values().unique())"
   ]
  },
  {
   "cell_type": "code",
   "execution_count": null,
   "metadata": {},
   "outputs": [],
   "source": []
  },
  {
   "cell_type": "code",
   "execution_count": null,
   "metadata": {},
   "outputs": [],
   "source": []
  }
 ],
 "metadata": {
  "kernelspec": {
   "display_name": "Python 3",
   "language": "python",
   "name": "python3"
  },
  "language_info": {
   "codemirror_mode": {
    "name": "ipython",
    "version": 3
   },
   "file_extension": ".py",
   "mimetype": "text/x-python",
   "name": "python",
   "nbconvert_exporter": "python",
   "pygments_lexer": "ipython3",
   "version": "3.7.6"
  }
 },
 "nbformat": 4,
 "nbformat_minor": 4
}
