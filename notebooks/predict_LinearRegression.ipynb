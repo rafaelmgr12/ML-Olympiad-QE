{
 "cells": [
  {
   "cell_type": "code",
   "execution_count": null,
   "metadata": {},
   "outputs": [],
   "source": [
    "import pandas as pd\n",
    "import numpy as np\n",
    "import matplotlib.pyplot as plt\n",
    "\n",
    "\n",
    "from sklearn.model_selection import train_test_split\n",
    "from sklearn.linear_model import LinearRegression\n",
    "from sklearn.preprocessing import StandardScaler\n",
    "from sklearn.pipeline import make_pipeline\n",
    "from sklearn.metrics import mean_squared_error"
   ]
  },
  {
   "cell_type": "code",
   "execution_count": null,
   "metadata": {},
   "outputs": [],
   "source": [
    "train_data = pd.read_csv('to_train.csv')"
   ]
  },
  {
   "cell_type": "code",
   "execution_count": null,
   "metadata": {},
   "outputs": [],
   "source": [
    "#train_data.drop(['NU_NOTA_REDACAO','NU_NOTA_CH','NU_NOTA_MT','NU_NOTA_CN','NU_NOTA_LC'], axis=1, inplace=True)\n",
    "train_data.drop(['TP_PRESENCA_CN','TP_PRESENCA_CH','TP_PRESENCA_LC','TP_PRESENCA_MT','TP_STATUS_REDACAO'], axis=1,\n",
    "               inplace=True)"
   ]
  },
  {
   "cell_type": "code",
   "execution_count": null,
   "metadata": {},
   "outputs": [],
   "source": [
    "X = train_data.drop(['NU_NOTA_REDACAO','NU_NOTA_CH','NU_NOTA_MT','NU_NOTA_CN','NU_NOTA_LC','NU_MED_NOTAS'], axis=1)\n",
    "X['TP_SEXO'] = X['TP_SEXO'].apply( lambda x: 1 if x=='F' else 2).astype('int8')\n",
    "y = train_data[['NU_NOTA_REDACAO','NU_NOTA_CH','NU_NOTA_MT','NU_NOTA_CN','NU_NOTA_LC']]\n",
    "\n",
    "X_train, X_test, y_train, y_test = train_test_split(X, y, random_state=np.random.RandomState(0))"
   ]
  },
  {
   "cell_type": "code",
   "execution_count": 4,
   "metadata": {},
   "outputs": [],
   "source": [
    "reg = make_pipeline(StandardScaler(), LinearRegression())\n",
    "reg.fit(X_train, y_train) \n",
    "y_pred = reg.predict(X_test)"
   ]
  },
  {
   "cell_type": "code",
   "execution_count": 43,
   "metadata": {},
   "outputs": [],
   "source": [
    "dif = y_test - pd.DataFrame(y_pred, columns=y_test.columns).values\n",
    "quad = dif*dif.values\n",
    "sum_sqd = quad.sum()\n",
    "mse = sum_sqd/len(y_pred)\n",
    "rmse = np.sqrt(mse)\n",
    "mc_rmse = rmse.sum()/5"
   ]
  },
  {
   "cell_type": "code",
   "execution_count": 45,
   "metadata": {},
   "outputs": [
    {
     "name": "stdout",
     "output_type": "stream",
     "text": [
      "MCRMSE: 83.873484\n"
     ]
    }
   ],
   "source": [
    "print('MCRMSE: %f' % mc_rmse )"
   ]
  },
  {
   "cell_type": "code",
   "execution_count": 46,
   "metadata": {},
   "outputs": [
    {
     "data": {
      "text/plain": [
       "NU_NOTA_REDACAO    138.883384\n",
       "NU_NOTA_CH          70.448157\n",
       "NU_NOTA_MT          91.090110\n",
       "NU_NOTA_CN          65.301297\n",
       "NU_NOTA_LC          53.644472\n",
       "dtype: float64"
      ]
     },
     "execution_count": 46,
     "metadata": {},
     "output_type": "execute_result"
    }
   ],
   "source": [
    "rmse"
   ]
  },
  {
   "cell_type": "code",
   "execution_count": 31,
   "metadata": {},
   "outputs": [
    {
     "data": {
      "text/plain": [
       "28"
      ]
     },
     "execution_count": 31,
     "metadata": {},
     "output_type": "execute_result"
    }
   ],
   "source": [
    "## --- melhor até agora\n",
    "RMSE 83.873484"
   ]
  },
  {
   "cell_type": "code",
   "execution_count": null,
   "metadata": {},
   "outputs": [],
   "source": []
  }
 ],
 "metadata": {
  "kernelspec": {
   "display_name": "Python 3",
   "language": "python",
   "name": "python3"
  },
  "language_info": {
   "codemirror_mode": {
    "name": "ipython",
    "version": 3
   },
   "file_extension": ".py",
   "mimetype": "text/x-python",
   "name": "python",
   "nbconvert_exporter": "python",
   "pygments_lexer": "ipython3",
   "version": "3.7.6"
  }
 },
 "nbformat": 4,
 "nbformat_minor": 4
}
