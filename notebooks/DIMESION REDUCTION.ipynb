{
 "cells": [
  {
   "cell_type": "code",
   "execution_count": 1,
   "id": "5068d1fc",
   "metadata": {
    "ExecuteTime": {
     "end_time": "2022-02-16T14:46:23.814103Z",
     "start_time": "2022-02-16T14:46:12.847201Z"
    }
   },
   "outputs": [],
   "source": [
    "import pandas as pd\n",
    "import seaborn as sns"
   ]
  },
  {
   "cell_type": "code",
   "execution_count": 2,
   "id": "f4f661cd",
   "metadata": {
    "ExecuteTime": {
     "end_time": "2022-02-16T14:47:04.822008Z",
     "start_time": "2022-02-16T14:47:04.485061Z"
    }
   },
   "outputs": [],
   "source": [
    "tips = sns.load_dataset('tips')\n",
    "tips.drop(['total_bill', 'tip'], axis =1, inplace = True)"
   ]
  },
  {
   "cell_type": "code",
   "execution_count": 8,
   "id": "72f21261",
   "metadata": {
    "ExecuteTime": {
     "end_time": "2022-02-16T14:48:11.947225Z",
     "start_time": "2022-02-16T14:48:11.924028Z"
    }
   },
   "outputs": [
    {
     "data": {
      "text/html": [
       "<div>\n",
       "<style scoped>\n",
       "    .dataframe tbody tr th:only-of-type {\n",
       "        vertical-align: middle;\n",
       "    }\n",
       "\n",
       "    .dataframe tbody tr th {\n",
       "        vertical-align: top;\n",
       "    }\n",
       "\n",
       "    .dataframe thead th {\n",
       "        text-align: right;\n",
       "    }\n",
       "</style>\n",
       "<table border=\"1\" class=\"dataframe\">\n",
       "  <thead>\n",
       "    <tr style=\"text-align: right;\">\n",
       "      <th></th>\n",
       "      <th>sex</th>\n",
       "      <th>smoker</th>\n",
       "      <th>day</th>\n",
       "      <th>time</th>\n",
       "      <th>size</th>\n",
       "    </tr>\n",
       "  </thead>\n",
       "  <tbody>\n",
       "    <tr>\n",
       "      <th>0</th>\n",
       "      <td>Female</td>\n",
       "      <td>No</td>\n",
       "      <td>Sun</td>\n",
       "      <td>Dinner</td>\n",
       "      <td>2</td>\n",
       "    </tr>\n",
       "    <tr>\n",
       "      <th>1</th>\n",
       "      <td>Male</td>\n",
       "      <td>No</td>\n",
       "      <td>Sun</td>\n",
       "      <td>Dinner</td>\n",
       "      <td>3</td>\n",
       "    </tr>\n",
       "    <tr>\n",
       "      <th>2</th>\n",
       "      <td>Male</td>\n",
       "      <td>No</td>\n",
       "      <td>Sun</td>\n",
       "      <td>Dinner</td>\n",
       "      <td>3</td>\n",
       "    </tr>\n",
       "    <tr>\n",
       "      <th>3</th>\n",
       "      <td>Male</td>\n",
       "      <td>No</td>\n",
       "      <td>Sun</td>\n",
       "      <td>Dinner</td>\n",
       "      <td>2</td>\n",
       "    </tr>\n",
       "    <tr>\n",
       "      <th>4</th>\n",
       "      <td>Female</td>\n",
       "      <td>No</td>\n",
       "      <td>Sun</td>\n",
       "      <td>Dinner</td>\n",
       "      <td>4</td>\n",
       "    </tr>\n",
       "  </tbody>\n",
       "</table>\n",
       "</div>"
      ],
      "text/plain": [
       "      sex smoker  day    time  size\n",
       "0  Female     No  Sun  Dinner     2\n",
       "1    Male     No  Sun  Dinner     3\n",
       "2    Male     No  Sun  Dinner     3\n",
       "3    Male     No  Sun  Dinner     2\n",
       "4  Female     No  Sun  Dinner     4"
      ]
     },
     "execution_count": 8,
     "metadata": {},
     "output_type": "execute_result"
    }
   ],
   "source": [
    "tips.head()"
   ]
  },
  {
   "cell_type": "code",
   "execution_count": 11,
   "id": "d991229e",
   "metadata": {
    "ExecuteTime": {
     "end_time": "2022-02-16T16:45:55.363205Z",
     "start_time": "2022-02-16T16:45:55.345557Z"
    }
   },
   "outputs": [
    {
     "data": {
      "text/plain": [
       "sex       category\n",
       "smoker    category\n",
       "day       category\n",
       "time      category\n",
       "size         int64\n",
       "dtype: object"
      ]
     },
     "execution_count": 11,
     "metadata": {},
     "output_type": "execute_result"
    }
   ],
   "source": [
    "tips.dtypes"
   ]
  },
  {
   "cell_type": "code",
   "execution_count": 5,
   "id": "a43fedf6",
   "metadata": {
    "ExecuteTime": {
     "end_time": "2022-02-16T14:47:37.644257Z",
     "start_time": "2022-02-16T14:47:36.224183Z"
    }
   },
   "outputs": [
    {
     "data": {
      "text/html": [
       "<div>\n",
       "<style scoped>\n",
       "    .dataframe tbody tr th:only-of-type {\n",
       "        vertical-align: middle;\n",
       "    }\n",
       "\n",
       "    .dataframe tbody tr th {\n",
       "        vertical-align: top;\n",
       "    }\n",
       "\n",
       "    .dataframe thead th {\n",
       "        text-align: right;\n",
       "    }\n",
       "</style>\n",
       "<table border=\"1\" class=\"dataframe\">\n",
       "  <thead>\n",
       "    <tr style=\"text-align: right;\">\n",
       "      <th></th>\n",
       "      <th>0</th>\n",
       "      <th>1</th>\n",
       "    </tr>\n",
       "  </thead>\n",
       "  <tbody>\n",
       "    <tr>\n",
       "      <th>0</th>\n",
       "      <td>-0.179709</td>\n",
       "      <td>-0.372317</td>\n",
       "    </tr>\n",
       "    <tr>\n",
       "      <th>1</th>\n",
       "      <td>-0.363840</td>\n",
       "      <td>-0.487036</td>\n",
       "    </tr>\n",
       "    <tr>\n",
       "      <th>2</th>\n",
       "      <td>-0.363840</td>\n",
       "      <td>-0.487036</td>\n",
       "    </tr>\n",
       "    <tr>\n",
       "      <th>3</th>\n",
       "      <td>-0.415941</td>\n",
       "      <td>-0.550888</td>\n",
       "    </tr>\n",
       "    <tr>\n",
       "      <th>4</th>\n",
       "      <td>-0.147590</td>\n",
       "      <td>-0.305220</td>\n",
       "    </tr>\n",
       "  </tbody>\n",
       "</table>\n",
       "</div>"
      ],
      "text/plain": [
       "          0         1\n",
       "0 -0.179709 -0.372317\n",
       "1 -0.363840 -0.487036\n",
       "2 -0.363840 -0.487036\n",
       "3 -0.415941 -0.550888\n",
       "4 -0.147590 -0.305220"
      ]
     },
     "execution_count": 5,
     "metadata": {},
     "output_type": "execute_result"
    }
   ],
   "source": [
    "from prince import MCA\n",
    "mca = MCA(n_components = 2, n_iter = 3, random_state = 101)\n",
    "mca.fit(tips)\n",
    "tips_mca = mca.transform(tips)\n",
    "tips_mca.head()"
   ]
  },
  {
   "cell_type": "code",
   "execution_count": 9,
   "id": "2ba4571e",
   "metadata": {
    "ExecuteTime": {
     "end_time": "2022-02-16T14:48:24.186666Z",
     "start_time": "2022-02-16T14:48:23.472481Z"
    }
   },
   "outputs": [
    {
     "data": {
      "text/plain": [
       "<AxesSubplot:title={'center':'Row and column principal coordinates'}, xlabel='Component 0 (26.58% inertia)', ylabel='Component 1 (17.64% inertia)'>"
      ]
     },
     "execution_count": 9,
     "metadata": {},
     "output_type": "execute_result"
    },
    {
     "data": {
      "image/png": "[encoded data removed]",
      "text/plain": [
       "<Figure size 432x432 with 1 Axes>"
      ]
     },
     "metadata": {
      "needs_background": "light"
     },
     "output_type": "display_data"
    }
   ],
   "source": [
    "mca.plot_coordinates(X = tips)"
   ]
  },
  {
   "cell_type": "code",
   "execution_count": 10,
   "id": "d933b7fb",
   "metadata": {
    "ExecuteTime": {
     "end_time": "2022-02-16T14:49:20.582183Z",
     "start_time": "2022-02-16T14:49:20.573183Z"
    }
   },
   "outputs": [
    {
     "data": {
      "text/plain": [
       "[0.2657898128049669, 0.17636942169343586]"
      ]
     },
     "execution_count": 10,
     "metadata": {},
     "output_type": "execute_result"
    }
   ],
   "source": [
    "mca.explained_inertia_"
   ]
  },
  {
   "cell_type": "code",
   "execution_count": 14,
   "id": "683bfd8f",
   "metadata": {
    "ExecuteTime": {
     "end_time": "2022-02-16T17:06:11.133077Z",
     "start_time": "2022-02-16T17:06:11.107343Z"
    }
   },
   "outputs": [
    {
     "data": {
      "text/html": [
       "<div>\n",
       "<style scoped>\n",
       "    .dataframe tbody tr th:only-of-type {\n",
       "        vertical-align: middle;\n",
       "    }\n",
       "\n",
       "    .dataframe tbody tr th {\n",
       "        vertical-align: top;\n",
       "    }\n",
       "\n",
       "    .dataframe thead th {\n",
       "        text-align: right;\n",
       "    }\n",
       "</style>\n",
       "<table border=\"1\" class=\"dataframe\">\n",
       "  <thead>\n",
       "    <tr style=\"text-align: right;\">\n",
       "      <th></th>\n",
       "      <th>E1 fruity</th>\n",
       "      <th>E1 woody</th>\n",
       "      <th>E1 coffee</th>\n",
       "      <th>E2 red fruit</th>\n",
       "      <th>E2 roasted</th>\n",
       "      <th>E2 vanillin</th>\n",
       "      <th>E2 woody</th>\n",
       "      <th>E3 fruity</th>\n",
       "      <th>E3 butter</th>\n",
       "      <th>E3 woody</th>\n",
       "      <th>Oak type</th>\n",
       "    </tr>\n",
       "  </thead>\n",
       "  <tbody>\n",
       "    <tr>\n",
       "      <th>Wine 1</th>\n",
       "      <td>1</td>\n",
       "      <td>6</td>\n",
       "      <td>7</td>\n",
       "      <td>2</td>\n",
       "      <td>5</td>\n",
       "      <td>7</td>\n",
       "      <td>6</td>\n",
       "      <td>3</td>\n",
       "      <td>6</td>\n",
       "      <td>7</td>\n",
       "      <td>1</td>\n",
       "    </tr>\n",
       "    <tr>\n",
       "      <th>Wine 2</th>\n",
       "      <td>5</td>\n",
       "      <td>3</td>\n",
       "      <td>2</td>\n",
       "      <td>4</td>\n",
       "      <td>4</td>\n",
       "      <td>4</td>\n",
       "      <td>2</td>\n",
       "      <td>4</td>\n",
       "      <td>4</td>\n",
       "      <td>3</td>\n",
       "      <td>2</td>\n",
       "    </tr>\n",
       "    <tr>\n",
       "      <th>Wine 3</th>\n",
       "      <td>6</td>\n",
       "      <td>1</td>\n",
       "      <td>1</td>\n",
       "      <td>5</td>\n",
       "      <td>2</td>\n",
       "      <td>1</td>\n",
       "      <td>1</td>\n",
       "      <td>7</td>\n",
       "      <td>1</td>\n",
       "      <td>1</td>\n",
       "      <td>2</td>\n",
       "    </tr>\n",
       "    <tr>\n",
       "      <th>Wine 4</th>\n",
       "      <td>7</td>\n",
       "      <td>1</td>\n",
       "      <td>2</td>\n",
       "      <td>7</td>\n",
       "      <td>2</td>\n",
       "      <td>1</td>\n",
       "      <td>2</td>\n",
       "      <td>2</td>\n",
       "      <td>2</td>\n",
       "      <td>2</td>\n",
       "      <td>2</td>\n",
       "    </tr>\n",
       "    <tr>\n",
       "      <th>Wine 5</th>\n",
       "      <td>2</td>\n",
       "      <td>5</td>\n",
       "      <td>4</td>\n",
       "      <td>3</td>\n",
       "      <td>5</td>\n",
       "      <td>6</td>\n",
       "      <td>5</td>\n",
       "      <td>2</td>\n",
       "      <td>6</td>\n",
       "      <td>6</td>\n",
       "      <td>1</td>\n",
       "    </tr>\n",
       "    <tr>\n",
       "      <th>Wine 6</th>\n",
       "      <td>3</td>\n",
       "      <td>4</td>\n",
       "      <td>4</td>\n",
       "      <td>3</td>\n",
       "      <td>5</td>\n",
       "      <td>4</td>\n",
       "      <td>5</td>\n",
       "      <td>1</td>\n",
       "      <td>7</td>\n",
       "      <td>5</td>\n",
       "      <td>1</td>\n",
       "    </tr>\n",
       "  </tbody>\n",
       "</table>\n",
       "</div>"
      ],
      "text/plain": [
       "        E1 fruity  E1 woody  E1 coffee  E2 red fruit  E2 roasted  E2 vanillin  \\\n",
       "Wine 1          1         6          7             2           5            7   \n",
       "Wine 2          5         3          2             4           4            4   \n",
       "Wine 3          6         1          1             5           2            1   \n",
       "Wine 4          7         1          2             7           2            1   \n",
       "Wine 5          2         5          4             3           5            6   \n",
       "Wine 6          3         4          4             3           5            4   \n",
       "\n",
       "        E2 woody  E3 fruity  E3 butter  E3 woody  Oak type  \n",
       "Wine 1         6          3          6         7         1  \n",
       "Wine 2         2          4          4         3         2  \n",
       "Wine 3         1          7          1         1         2  \n",
       "Wine 4         2          2          2         2         2  \n",
       "Wine 5         5          2          6         6         1  \n",
       "Wine 6         5          1          7         5         1  "
      ]
     },
     "execution_count": 14,
     "metadata": {},
     "output_type": "execute_result"
    }
   ],
   "source": [
    "X = pd.DataFrame(\n",
    "data=[\n",
    "         [1, 6, 7, 2, 5, 7, 6, 3, 6, 7],\n",
    "         [5, 3, 2, 4, 4, 4, 2, 4, 4, 3],\n",
    "         [6, 1, 1, 5, 2, 1, 1, 7, 1, 1],\n",
    "         [7, 1, 2, 7, 2, 1, 2, 2, 2, 2],\n",
    "         [2, 5, 4, 3, 5, 6, 5, 2, 6, 6],\n",
    "            [3, 4, 4, 3, 5, 4, 5, 1, 7, 5]\n",
    "     ],\n",
    "     columns=['E1 fruity', 'E1 woody', 'E1 coffee',\n",
    "              'E2 red fruit', 'E2 roasted', 'E2 vanillin', 'E2 woody',\n",
    "              'E3 fruity', 'E3 butter', 'E3 woody'],\n",
    "     index=['Wine {}'.format(i+1) for i in range(6)]\n",
    ")\n",
    "X['Oak type'] = [1, 2, 2, 2, 1, 1]\n",
    "X"
   ]
  },
  {
   "cell_type": "code",
   "execution_count": 15,
   "id": "2dfa77f7",
   "metadata": {
    "ExecuteTime": {
     "end_time": "2022-02-16T17:06:25.778257Z",
     "start_time": "2022-02-16T17:06:25.771259Z"
    }
   },
   "outputs": [
    {
     "data": {
      "text/plain": [
       "{'Expert #1': ['E1 fruity', 'E1 woody', 'E1 coffee'],\n",
       " 'Expert #2': ['E2 red fruit', 'E2 roasted', 'E2 vanillin', 'E2 woody'],\n",
       " 'Expert #3': ['E3 fruity', 'E3 butter', 'E3 woody']}"
      ]
     },
     "execution_count": 15,
     "metadata": {},
     "output_type": "execute_result"
    }
   ],
   "source": [
    "groups = {\n",
    "  'Expert #{}'.format(no+1): [c for c in X.columns if c.startswith('E{}'.format(no+1))] for no in range(3)}\n",
    "groups"
   ]
  },
  {
   "cell_type": "code",
   "execution_count": 16,
   "id": "02349977",
   "metadata": {
    "ExecuteTime": {
     "end_time": "2022-02-16T17:06:49.671105Z",
     "start_time": "2022-02-16T17:06:49.498812Z"
    }
   },
   "outputs": [
    {
     "data": {
      "text/html": [
       "<div>\n",
       "<style scoped>\n",
       "    .dataframe tbody tr th:only-of-type {\n",
       "        vertical-align: middle;\n",
       "    }\n",
       "\n",
       "    .dataframe tbody tr th {\n",
       "        vertical-align: top;\n",
       "    }\n",
       "\n",
       "    .dataframe thead th {\n",
       "        text-align: right;\n",
       "    }\n",
       "</style>\n",
       "<table border=\"1\" class=\"dataframe\">\n",
       "  <thead>\n",
       "    <tr style=\"text-align: right;\">\n",
       "      <th></th>\n",
       "      <th>0</th>\n",
       "      <th>1</th>\n",
       "    </tr>\n",
       "  </thead>\n",
       "  <tbody>\n",
       "    <tr>\n",
       "      <th>Wine 1</th>\n",
       "      <td>-2.172155</td>\n",
       "      <td>-0.508596</td>\n",
       "    </tr>\n",
       "    <tr>\n",
       "      <th>Wine 2</th>\n",
       "      <td>0.557017</td>\n",
       "      <td>-0.197408</td>\n",
       "    </tr>\n",
       "    <tr>\n",
       "      <th>Wine 3</th>\n",
       "      <td>2.317663</td>\n",
       "      <td>-0.830259</td>\n",
       "    </tr>\n",
       "    <tr>\n",
       "      <th>Wine 4</th>\n",
       "      <td>1.832557</td>\n",
       "      <td>0.905046</td>\n",
       "    </tr>\n",
       "    <tr>\n",
       "      <th>Wine 5</th>\n",
       "      <td>-1.403787</td>\n",
       "      <td>0.054977</td>\n",
       "    </tr>\n",
       "    <tr>\n",
       "      <th>Wine 6</th>\n",
       "      <td>-1.131296</td>\n",
       "      <td>0.576241</td>\n",
       "    </tr>\n",
       "  </tbody>\n",
       "</table>\n",
       "</div>"
      ],
      "text/plain": [
       "               0         1\n",
       "Wine 1 -2.172155 -0.508596\n",
       "Wine 2  0.557017 -0.197408\n",
       "Wine 3  2.317663 -0.830259\n",
       "Wine 4  1.832557  0.905046\n",
       "Wine 5 -1.403787  0.054977\n",
       "Wine 6 -1.131296  0.576241"
      ]
     },
     "execution_count": 16,
     "metadata": {},
     "output_type": "execute_result"
    }
   ],
   "source": [
    "from prince import MFA\n",
    "mfa = MFA(groups = groups, n_components = 2, n_iter = 3, random_state = 101)\n",
    "mfa.fit(X)\n",
    "mfa.transform(X)"
   ]
  },
  {
   "cell_type": "code",
   "execution_count": 17,
   "id": "a2bbdf90",
   "metadata": {
    "ExecuteTime": {
     "end_time": "2022-02-16T17:07:03.371157Z",
     "start_time": "2022-02-16T17:07:02.860582Z"
    }
   },
   "outputs": [
    {
     "data": {
      "text/plain": [
       "<AxesSubplot:title={'center':'Row principal coordinates'}, xlabel='Component 0 (84.55% inertia)', ylabel='Component 1 (10.64% inertia)'>"
      ]
     },
     "execution_count": 17,
     "metadata": {},
     "output_type": "execute_result"
    },
    {
     "data": {
      "image/png": "[encoded data removed]",
      "text/plain": [
       "<Figure size 432x432 with 1 Axes>"
      ]
     },
     "metadata": {
      "needs_background": "light"
     },
     "output_type": "display_data"
    }
   ],
   "source": [
    "mfa.plot_row_coordinates(X=X, labels = X.index, color_labels=['Oak type {}'.format(t) for t in X['Oak type']])"
   ]
  },
  {
   "cell_type": "code",
   "execution_count": 18,
   "id": "bba49635",
   "metadata": {
    "ExecuteTime": {
     "end_time": "2022-02-16T17:07:29.487085Z",
     "start_time": "2022-02-16T17:07:29.350853Z"
    }
   },
   "outputs": [
    {
     "data": {
      "text/html": [
       "<div>\n",
       "<style scoped>\n",
       "    .dataframe tbody tr th:only-of-type {\n",
       "        vertical-align: middle;\n",
       "    }\n",
       "\n",
       "    .dataframe tbody tr th {\n",
       "        vertical-align: top;\n",
       "    }\n",
       "\n",
       "    .dataframe thead tr th {\n",
       "        text-align: left;\n",
       "    }\n",
       "</style>\n",
       "<table border=\"1\" class=\"dataframe\">\n",
       "  <thead>\n",
       "    <tr>\n",
       "      <th></th>\n",
       "      <th colspan=\"2\" halign=\"left\">Expert #1</th>\n",
       "      <th colspan=\"2\" halign=\"left\">Expert #2</th>\n",
       "      <th colspan=\"2\" halign=\"left\">Expert #3</th>\n",
       "    </tr>\n",
       "    <tr>\n",
       "      <th></th>\n",
       "      <th>0</th>\n",
       "      <th>1</th>\n",
       "      <th>0</th>\n",
       "      <th>1</th>\n",
       "      <th>0</th>\n",
       "      <th>1</th>\n",
       "    </tr>\n",
       "  </thead>\n",
       "  <tbody>\n",
       "    <tr>\n",
       "      <th>Wine 1</th>\n",
       "      <td>-2.764432</td>\n",
       "      <td>-1.104812</td>\n",
       "      <td>-2.213928</td>\n",
       "      <td>-0.863519</td>\n",
       "      <td>-1.538106</td>\n",
       "      <td>0.442545</td>\n",
       "    </tr>\n",
       "    <tr>\n",
       "      <th>Wine 2</th>\n",
       "      <td>0.773034</td>\n",
       "      <td>0.298919</td>\n",
       "      <td>0.284247</td>\n",
       "      <td>-0.132135</td>\n",
       "      <td>0.613771</td>\n",
       "      <td>-0.759009</td>\n",
       "    </tr>\n",
       "    <tr>\n",
       "      <th>Wine 3</th>\n",
       "      <td>1.991398</td>\n",
       "      <td>0.805893</td>\n",
       "      <td>2.111508</td>\n",
       "      <td>0.499718</td>\n",
       "      <td>2.850084</td>\n",
       "      <td>-3.796390</td>\n",
       "    </tr>\n",
       "    <tr>\n",
       "      <th>Wine 4</th>\n",
       "      <td>1.981456</td>\n",
       "      <td>0.927187</td>\n",
       "      <td>2.393009</td>\n",
       "      <td>1.227146</td>\n",
       "      <td>1.123206</td>\n",
       "      <td>0.560803</td>\n",
       "    </tr>\n",
       "    <tr>\n",
       "      <th>Wine 5</th>\n",
       "      <td>-1.292834</td>\n",
       "      <td>-0.620661</td>\n",
       "      <td>-1.492114</td>\n",
       "      <td>-0.488088</td>\n",
       "      <td>-1.426414</td>\n",
       "      <td>1.273679</td>\n",
       "    </tr>\n",
       "    <tr>\n",
       "      <th>Wine 6</th>\n",
       "      <td>-0.688623</td>\n",
       "      <td>-0.306527</td>\n",
       "      <td>-1.082723</td>\n",
       "      <td>-0.243122</td>\n",
       "      <td>-1.622541</td>\n",
       "      <td>2.278372</td>\n",
       "    </tr>\n",
       "  </tbody>\n",
       "</table>\n",
       "</div>"
      ],
      "text/plain": [
       "       Expert #1           Expert #2           Expert #3          \n",
       "               0         1         0         1         0         1\n",
       "Wine 1 -2.764432 -1.104812 -2.213928 -0.863519 -1.538106  0.442545\n",
       "Wine 2  0.773034  0.298919  0.284247 -0.132135  0.613771 -0.759009\n",
       "Wine 3  1.991398  0.805893  2.111508  0.499718  2.850084 -3.796390\n",
       "Wine 4  1.981456  0.927187  2.393009  1.227146  1.123206  0.560803\n",
       "Wine 5 -1.292834 -0.620661 -1.492114 -0.488088 -1.426414  1.273679\n",
       "Wine 6 -0.688623 -0.306527 -1.082723 -0.243122 -1.622541  2.278372"
      ]
     },
     "execution_count": 18,
     "metadata": {},
     "output_type": "execute_result"
    }
   ],
   "source": [
    "mfa.partial_row_coordinates(X)"
   ]
  },
  {
   "cell_type": "code",
   "execution_count": 40,
   "id": "ce0f09b4",
   "metadata": {
    "ExecuteTime": {
     "end_time": "2022-02-16T18:00:55.175224Z",
     "start_time": "2022-02-16T18:00:55.130735Z"
    }
   },
   "outputs": [
    {
     "ename": "ValueError",
     "evalue": "FAMD works with categorical and numerical data but you only have numerical data; you should consider using PCA",
     "output_type": "error",
     "traceback": [
      "\u001b[1;31m---------------------------------------------------------------------------\u001b[0m",
      "\u001b[1;31mValueError\u001b[0m                                Traceback (most recent call last)",
      "Input \u001b[1;32mIn [40]\u001b[0m, in \u001b[0;36m<module>\u001b[1;34m\u001b[0m\n\u001b[0;32m      7\u001b[0m famd \u001b[38;5;241m=\u001b[39m FAMD(n_components \u001b[38;5;241m=\u001b[39m\u001b[38;5;241m2\u001b[39m, n_iter \u001b[38;5;241m=\u001b[39m \u001b[38;5;241m3\u001b[39m, random_state \u001b[38;5;241m=\u001b[39m \u001b[38;5;241m101\u001b[39m)\n\u001b[0;32m      8\u001b[0m \u001b[38;5;66;03m##I leave out tips as I want the sex feature as the label\u001b[39;00m\n\u001b[1;32m----> 9\u001b[0m \u001b[43mfamd\u001b[49m\u001b[38;5;241;43m.\u001b[39;49m\u001b[43mfit\u001b[49m\u001b[43m(\u001b[49m\u001b[43mtips\u001b[49m\u001b[43m)\u001b[49m\n\u001b[0;32m     10\u001b[0m famd\u001b[38;5;241m.\u001b[39mtransform(tips)\n",
      "File \u001b[1;32mD:\\Anaconda\\programa\\envs\\kaggle_challenge\\lib\\site-packages\\prince\\famd.py:42\u001b[0m, in \u001b[0;36mFAMD.fit\u001b[1;34m(self, X, y)\u001b[0m\n\u001b[0;32m     40\u001b[0m     \u001b[38;5;28mself\u001b[39m\u001b[38;5;241m.\u001b[39mgroups[\u001b[38;5;124m'\u001b[39m\u001b[38;5;124mCategorical\u001b[39m\u001b[38;5;124m'\u001b[39m] \u001b[38;5;241m=\u001b[39m cat_cols\n\u001b[0;32m     41\u001b[0m \u001b[38;5;28;01melse\u001b[39;00m:\n\u001b[1;32m---> 42\u001b[0m     \u001b[38;5;28;01mraise\u001b[39;00m \u001b[38;5;167;01mValueError\u001b[39;00m(\u001b[38;5;124m'\u001b[39m\u001b[38;5;124mFAMD works with categorical and numerical data but \u001b[39m\u001b[38;5;124m'\u001b[39m \u001b[38;5;241m+\u001b[39m\n\u001b[0;32m     43\u001b[0m                      \u001b[38;5;124m'\u001b[39m\u001b[38;5;124myou only have numerical data; you should consider using PCA\u001b[39m\u001b[38;5;124m'\u001b[39m)\n\u001b[0;32m     45\u001b[0m \u001b[38;5;28;01mreturn\u001b[39;00m \u001b[38;5;28msuper\u001b[39m()\u001b[38;5;241m.\u001b[39mfit(X)\n",
      "\u001b[1;31mValueError\u001b[0m: FAMD works with categorical and numerical data but you only have numerical data; you should consider using PCA"
     ]
    }
   ],
   "source": [
    "#Using the tips dataset, change the size feature to string object\n",
    "tips = sns.load_dataset('tips')\n",
    "#ips['size'] = tips['size'].astype('category')\n",
    "#tips['smoker'] = tips['smoker'].astype('str')\n",
    "tips = tips.drop(['sex','size','day', 'time', 'smoker'], axis =1)\n",
    "#from prince import FAMD\n",
    "famd = FAMD(n_components =2, n_iter = 3, random_state = 101)\n",
    "##I leave out tips as I want the sex feature as the label\n",
    "famd.fit(tips)\n",
    "famd.transform(tips)"
   ]
  },
  {
   "cell_type": "code",
   "execution_count": 41,
   "id": "f9536cc1",
   "metadata": {
    "ExecuteTime": {
     "end_time": "2022-02-16T18:00:58.902271Z",
     "start_time": "2022-02-16T18:00:58.890109Z"
    }
   },
   "outputs": [
    {
     "data": {
      "text/plain": [
       "total_bill    float64\n",
       "tip           float64\n",
       "dtype: object"
      ]
     },
     "execution_count": 41,
     "metadata": {},
     "output_type": "execute_result"
    }
   ],
   "source": [
    "tips.dtypes"
   ]
  },
  {
   "cell_type": "code",
   "execution_count": 24,
   "id": "eae9e708",
   "metadata": {
    "ExecuteTime": {
     "end_time": "2022-02-16T17:47:42.063762Z",
     "start_time": "2022-02-16T17:47:42.038065Z"
    }
   },
   "outputs": [
    {
     "data": {
      "text/html": [
       "<div>\n",
       "<style scoped>\n",
       "    .dataframe tbody tr th:only-of-type {\n",
       "        vertical-align: middle;\n",
       "    }\n",
       "\n",
       "    .dataframe tbody tr th {\n",
       "        vertical-align: top;\n",
       "    }\n",
       "\n",
       "    .dataframe thead th {\n",
       "        text-align: right;\n",
       "    }\n",
       "</style>\n",
       "<table border=\"1\" class=\"dataframe\">\n",
       "  <thead>\n",
       "    <tr style=\"text-align: right;\">\n",
       "      <th></th>\n",
       "      <th>total_bill</th>\n",
       "      <th>tip</th>\n",
       "      <th>smoker</th>\n",
       "      <th>day</th>\n",
       "      <th>time</th>\n",
       "      <th>size</th>\n",
       "    </tr>\n",
       "  </thead>\n",
       "  <tbody>\n",
       "    <tr>\n",
       "      <th>0</th>\n",
       "      <td>16.99</td>\n",
       "      <td>1.01</td>\n",
       "      <td>No</td>\n",
       "      <td>Sun</td>\n",
       "      <td>Dinner</td>\n",
       "      <td>2</td>\n",
       "    </tr>\n",
       "    <tr>\n",
       "      <th>1</th>\n",
       "      <td>10.34</td>\n",
       "      <td>1.66</td>\n",
       "      <td>No</td>\n",
       "      <td>Sun</td>\n",
       "      <td>Dinner</td>\n",
       "      <td>3</td>\n",
       "    </tr>\n",
       "    <tr>\n",
       "      <th>2</th>\n",
       "      <td>21.01</td>\n",
       "      <td>3.50</td>\n",
       "      <td>No</td>\n",
       "      <td>Sun</td>\n",
       "      <td>Dinner</td>\n",
       "      <td>3</td>\n",
       "    </tr>\n",
       "    <tr>\n",
       "      <th>3</th>\n",
       "      <td>23.68</td>\n",
       "      <td>3.31</td>\n",
       "      <td>No</td>\n",
       "      <td>Sun</td>\n",
       "      <td>Dinner</td>\n",
       "      <td>2</td>\n",
       "    </tr>\n",
       "    <tr>\n",
       "      <th>4</th>\n",
       "      <td>24.59</td>\n",
       "      <td>3.61</td>\n",
       "      <td>No</td>\n",
       "      <td>Sun</td>\n",
       "      <td>Dinner</td>\n",
       "      <td>4</td>\n",
       "    </tr>\n",
       "    <tr>\n",
       "      <th>...</th>\n",
       "      <td>...</td>\n",
       "      <td>...</td>\n",
       "      <td>...</td>\n",
       "      <td>...</td>\n",
       "      <td>...</td>\n",
       "      <td>...</td>\n",
       "    </tr>\n",
       "    <tr>\n",
       "      <th>239</th>\n",
       "      <td>29.03</td>\n",
       "      <td>5.92</td>\n",
       "      <td>No</td>\n",
       "      <td>Sat</td>\n",
       "      <td>Dinner</td>\n",
       "      <td>3</td>\n",
       "    </tr>\n",
       "    <tr>\n",
       "      <th>240</th>\n",
       "      <td>27.18</td>\n",
       "      <td>2.00</td>\n",
       "      <td>Yes</td>\n",
       "      <td>Sat</td>\n",
       "      <td>Dinner</td>\n",
       "      <td>2</td>\n",
       "    </tr>\n",
       "    <tr>\n",
       "      <th>241</th>\n",
       "      <td>22.67</td>\n",
       "      <td>2.00</td>\n",
       "      <td>Yes</td>\n",
       "      <td>Sat</td>\n",
       "      <td>Dinner</td>\n",
       "      <td>2</td>\n",
       "    </tr>\n",
       "    <tr>\n",
       "      <th>242</th>\n",
       "      <td>17.82</td>\n",
       "      <td>1.75</td>\n",
       "      <td>No</td>\n",
       "      <td>Sat</td>\n",
       "      <td>Dinner</td>\n",
       "      <td>2</td>\n",
       "    </tr>\n",
       "    <tr>\n",
       "      <th>243</th>\n",
       "      <td>18.78</td>\n",
       "      <td>3.00</td>\n",
       "      <td>No</td>\n",
       "      <td>Thur</td>\n",
       "      <td>Dinner</td>\n",
       "      <td>2</td>\n",
       "    </tr>\n",
       "  </tbody>\n",
       "</table>\n",
       "<p>244 rows × 6 columns</p>\n",
       "</div>"
      ],
      "text/plain": [
       "     total_bill   tip smoker   day    time size\n",
       "0         16.99  1.01     No   Sun  Dinner    2\n",
       "1         10.34  1.66     No   Sun  Dinner    3\n",
       "2         21.01  3.50     No   Sun  Dinner    3\n",
       "3         23.68  3.31     No   Sun  Dinner    2\n",
       "4         24.59  3.61     No   Sun  Dinner    4\n",
       "..          ...   ...    ...   ...     ...  ...\n",
       "239       29.03  5.92     No   Sat  Dinner    3\n",
       "240       27.18  2.00    Yes   Sat  Dinner    2\n",
       "241       22.67  2.00    Yes   Sat  Dinner    2\n",
       "242       17.82  1.75     No   Sat  Dinner    2\n",
       "243       18.78  3.00     No  Thur  Dinner    2\n",
       "\n",
       "[244 rows x 6 columns]"
      ]
     },
     "execution_count": 24,
     "metadata": {},
     "output_type": "execute_result"
    }
   ],
   "source": [
    "tips['smoker']"
   ]
  }
 ],
 "metadata": {
  "kernelspec": {
   "display_name": "Python 3 (ipykernel)",
   "language": "python",
   "name": "python3"
  },
  "language_info": {
   "codemirror_mode": {
    "name": "ipython",
    "version": 3
   },
   "file_extension": ".py",
   "mimetype": "text/x-python",
   "name": "python",
   "nbconvert_exporter": "python",
   "pygments_lexer": "ipython3",
   "version": "3.8.12"
  }
 },
 "nbformat": 4,
 "nbformat_minor": 5
}
