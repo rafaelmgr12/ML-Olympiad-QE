{
 "cells": [
  {
   "cell_type": "code",
   "execution_count": 1,
   "id": "048c490e",
   "metadata": {},
   "outputs": [],
   "source": [
    "import pandas as pd\n",
    "import numpy as np\n",
    "\n",
    "## -- 11/02/2022 \n",
    "## Predições feitas com modelos de 1) Regressão Linear e 2) Ridge Regression\n",
    "\n",
    "from subroutines import reduce_mem_usage\n",
    "from sklearn.linear_model import LinearRegression\n",
    "from sklearn.linear_model import Ridge\n",
    "from sklearn.preprocessing import StandardScaler\n",
    "from sklearn.pipeline import make_pipeline"
   ]
  },
  {
   "cell_type": "markdown",
   "id": "b1143eed",
   "metadata": {},
   "source": [
    "#### Treino do modelo para predição das notas de quem esteve presente em todas etapas"
   ]
  },
  {
   "cell_type": "code",
   "execution_count": 2,
   "id": "efaf3819",
   "metadata": {},
   "outputs": [
    {
     "name": "stdout",
     "output_type": "stream",
     "text": [
      "Memory usage of dataframe is 403.62 MB\n"
     ]
    },
    {
     "data": {
      "application/vnd.jupyter.widget-view+json": {
       "model_id": "a13c9d67dd7741b3ab22a7bbcbdf05c9",
       "version_major": 2,
       "version_minor": 0
      },
      "text/plain": [
       "  0%|          | 0/28 [00:00<?, ?it/s]"
      ]
     },
     "metadata": {},
     "output_type": "display_data"
    },
    {
     "name": "stdout",
     "output_type": "stream",
     "text": [
      "Memory usage after optimization is: 116.19 MB\n",
      "Decreased by 71.2%\n"
     ]
    }
   ],
   "source": [
    "## leitura dos dados de treino\n",
    "train_data = reduce_mem_usage( pd.read_csv('to_train.csv').drop(['TP_PRESENCA_CN','TP_PRESENCA_CH',\n",
    "                                                                 'TP_PRESENCA_LC','TP_PRESENCA_MT',\n",
    "                                                                 'TP_STATUS_REDACAO'], axis=1)  )"
   ]
  },
  {
   "cell_type": "code",
   "execution_count": 3,
   "id": "52ed78e2",
   "metadata": {},
   "outputs": [
    {
     "data": {
      "text/plain": [
       "Pipeline(steps=[('standardscaler', StandardScaler()),\n",
       "                ('linearregression', LinearRegression())])"
      ]
     },
     "execution_count": 3,
     "metadata": {},
     "output_type": "execute_result"
    }
   ],
   "source": [
    "## separação de features e targets / treino do modelo\n",
    "\n",
    "X = train_data.drop(['NU_NOTA_REDACAO','NU_NOTA_CH',\n",
    "                     'NU_NOTA_MT','NU_NOTA_CN',\n",
    "                     'NU_NOTA_LC'], axis=1)\n",
    "\n",
    "X['TP_SEXO'] = X['TP_SEXO'].apply( lambda x: 1 if x=='F' else 2).astype('int8')\n",
    "\n",
    "y = train_data[['NU_NOTA_CN','NU_NOTA_CH','NU_NOTA_LC',\n",
    "                'NU_NOTA_MT','NU_NOTA_REDACAO']]\n",
    "linear_reg = make_pipeline(StandardScaler(),  LinearRegression())\n",
    "linear_reg.fit(X, y) "
   ]
  },
  {
   "cell_type": "markdown",
   "id": "22a4196e",
   "metadata": {},
   "source": [
    "#### Treino do modelo para predição das notas de quem faltou na redação/ciências humanas"
   ]
  },
  {
   "cell_type": "code",
   "execution_count": 4,
   "id": "303cd470",
   "metadata": {},
   "outputs": [
    {
     "name": "stdout",
     "output_type": "stream",
     "text": [
      "Memory usage of dataframe is 467.53 MB\n"
     ]
    },
    {
     "data": {
      "application/vnd.jupyter.widget-view+json": {
       "model_id": "5c9025ec256d4a9a89de1305d442d4de",
       "version_major": 2,
       "version_minor": 0
      },
      "text/plain": [
       "  0%|          | 0/33 [00:00<?, ?it/s]"
      ]
     },
     "metadata": {},
     "output_type": "display_data"
    },
    {
     "name": "stdout",
     "output_type": "stream",
     "text": [
      "Memory usage after optimization is: 124.57 MB\n",
      "Decreased by 73.4%\n"
     ]
    }
   ],
   "source": [
    "## leitura dos dados de treino\n",
    "train_data = reduce_mem_usage( pd.read_csv('to_train_zeros.csv'))"
   ]
  },
  {
   "cell_type": "code",
   "execution_count": 5,
   "id": "bff494ca",
   "metadata": {},
   "outputs": [
    {
     "data": {
      "text/plain": [
       "Pipeline(steps=[('standardscaler', StandardScaler()),\n",
       "                ('ridge', Ridge(alpha=50, solver='lsqr'))])"
      ]
     },
     "execution_count": 5,
     "metadata": {},
     "output_type": "execute_result"
    }
   ],
   "source": [
    "## separação de features e targets / treino do modelo\n",
    "\n",
    "train_MTCN = train_data[ train_data['TP_PRESENCA_CH'] !=1 ]\n",
    "train_MTCN = train_data[(train_data[['TP_PRESENCA_MT','TP_PRESENCA_CN']] == 1).any(axis = 1)]\n",
    "\n",
    "X = train_MTCN.drop(['TP_PRESENCA_CN','TP_PRESENCA_CH','TP_PRESENCA_LC','TP_PRESENCA_MT',\n",
    "                    'NU_NOTA_REDACAO','NU_NOTA_CH','NU_NOTA_MT','NU_NOTA_CN','NU_NOTA_LC',\n",
    "                    'TP_STATUS_REDACAO'], axis=1)\n",
    "\n",
    "X['TP_SEXO'] = X['TP_SEXO'].apply( lambda x: 1 if x=='F' else 2).astype('int8')\n",
    "y = train_MTCN[['NU_NOTA_MT','NU_NOTA_CN']]\n",
    "\n",
    "ridge_mt = make_pipeline( StandardScaler(), Ridge(alpha = 50, \n",
    "                                               fit_intercept=True, solver='lsqr') )\n",
    "ridge_mt.fit(X, y)"
   ]
  },
  {
   "cell_type": "code",
   "execution_count": null,
   "id": "413d055d",
   "metadata": {},
   "outputs": [],
   "source": []
  },
  {
   "cell_type": "markdown",
   "id": "135d4b58",
   "metadata": {},
   "source": [
    "#### Treino do modelo para predição das notas de quem faltou na prova de mat./ciências da nat."
   ]
  },
  {
   "cell_type": "code",
   "execution_count": 6,
   "id": "8feb607b",
   "metadata": {},
   "outputs": [
    {
     "data": {
      "text/plain": [
       "Pipeline(steps=[('standardscaler', StandardScaler()),\n",
       "                ('ridge', Ridge(alpha=0.12598385701465692, solver='lsqr'))])"
      ]
     },
     "execution_count": 6,
     "metadata": {},
     "output_type": "execute_result"
    }
   ],
   "source": [
    "## separação de features e targets / treino do modelo\n",
    "\n",
    "train_CHLC = train_data[ train_data['TP_PRESENCA_MT'] !=1 ]\n",
    "train_CHLC = train_data[(train_data[['TP_PRESENCA_CH','TP_PRESENCA_LC']] == 1).any(axis = 1)]\n",
    "\n",
    "X = train_CHLC.drop(['TP_PRESENCA_CN','TP_PRESENCA_CH','TP_PRESENCA_LC','TP_PRESENCA_MT',\n",
    "                    'NU_NOTA_REDACAO','NU_NOTA_CH','NU_NOTA_MT','NU_NOTA_CN','NU_NOTA_LC'], axis=1)\n",
    "\n",
    "X['TP_SEXO'] = X['TP_SEXO'].apply( lambda x: 1 if x=='F' else 2).astype('int8')\n",
    "y = train_CHLC[['NU_NOTA_CH','NU_NOTA_LC']]\n",
    "\n",
    "ridge_lc = make_pipeline( StandardScaler(), Ridge(alpha = 0.12598385701465692, \n",
    "                                               fit_intercept=True, solver='lsqr') )\n",
    "ridge_lc.fit(X, y)"
   ]
  },
  {
   "cell_type": "markdown",
   "id": "7ea9263b",
   "metadata": {},
   "source": [
    "#### Predição das notas para submissão"
   ]
  },
  {
   "cell_type": "code",
   "execution_count": 7,
   "id": "fdbc25df",
   "metadata": {},
   "outputs": [
    {
     "name": "stdout",
     "output_type": "stream",
     "text": [
      "Memory usage of dataframe is 462.60 MB\n"
     ]
    },
    {
     "data": {
      "application/vnd.jupyter.widget-view+json": {
       "model_id": "d58666c094994a0aaac471a59c458fb2",
       "version_major": 2,
       "version_minor": 0
      },
      "text/plain": [
       "  0%|          | 0/34 [00:00<?, ?it/s]"
      ]
     },
     "metadata": {},
     "output_type": "display_data"
    },
    {
     "name": "stdout",
     "output_type": "stream",
     "text": [
      "Memory usage after optimization is: 154.64 MB\n",
      "Decreased by 66.6%\n"
     ]
    }
   ],
   "source": [
    "## leitura das features nos dados do arquivo 'to_test'\n",
    "\n",
    "test_data = reduce_mem_usage( pd.read_csv('to_test.csv') )\n",
    "test_data['TP_SEXO'] = test_data['TP_SEXO'].apply( lambda x: 1 if x=='F' else 2).astype('int8')"
   ]
  },
  {
   "cell_type": "code",
   "execution_count": 8,
   "id": "21cb32dd",
   "metadata": {},
   "outputs": [],
   "source": [
    "## predicão das notas dos presentes em todas\n",
    "\n",
    "presentes = test_data[(test_data[['TP_PRESENCA_MT','TP_PRESENCA_CH']] == 1).all(axis=1)]\n",
    "\n",
    "X = presentes.drop(['NU_INSCRICAO', 'TP_PRESENCA_MT', 'TP_PRESENCA_CN',\n",
    "               'TP_PRESENCA_CH', 'TP_PRESENCA_LC', 'TP_STATUS_REDACAO'], axis=1)\n",
    "\n",
    "\n",
    "sub_df_presentes = pd.DataFrame(presentes['NU_INSCRICAO'].reset_index(), columns=['NU_INSCRICAO', 'NU_NOTA_CN', 'NU_NOTA_CH',\n",
    "                                                          'NU_NOTA_LC', 'NU_NOTA_MT', 'NU_NOTA_REDACAO'])\n",
    "preds = pd.DataFrame(linear_reg.predict(X))\n",
    "\n",
    "sub_df_presentes['NU_NOTA_CN'] = preds[0]\n",
    "sub_df_presentes['NU_NOTA_CH'] = preds[1]\n",
    "sub_df_presentes['NU_NOTA_LC'] = preds[2]\n",
    "sub_df_presentes['NU_NOTA_MT'] = preds[3]\n",
    "sub_df_presentes['NU_NOTA_REDACAO'] = preds[4]\n",
    "\n",
    "#for index, row in test_data[:12].iterrows():\n",
    "#    print(linear_reg.predict(row[row.index[1:]]))"
   ]
  },
  {
   "cell_type": "code",
   "execution_count": 9,
   "id": "9f08ce52",
   "metadata": {},
   "outputs": [],
   "source": [
    "## predição das notas dos que faltaram na redação\n",
    "\n",
    "pres_mt = test_data[(test_data[['TP_PRESENCA_CH']] == 0).any(axis=1)]\n",
    "pres_mt = pres_mt[pres_mt['TP_PRESENCA_MT'] != 0]\n",
    "\n",
    "X = pres_mt.drop(['NU_INSCRICAO', 'TP_PRESENCA_MT', 'TP_PRESENCA_CN',\n",
    "                  'TP_PRESENCA_CH', 'TP_PRESENCA_LC', 'TP_STATUS_REDACAO'], axis=1)\n",
    "\n",
    "\n",
    "sub_df_mt = pd.DataFrame(pres_mt['NU_INSCRICAO'].reset_index(), columns=['NU_INSCRICAO', 'NU_NOTA_CN', 'NU_NOTA_CH',\n",
    "                                                                         'NU_NOTA_LC', 'NU_NOTA_MT',\n",
    "                                                                         'NU_NOTA_REDACAO'])\n",
    "preds = pd.DataFrame(ridge_mt.predict(X))\n",
    "\n",
    "sub_df_mt['NU_NOTA_CN'] = preds[1]\n",
    "sub_df_mt['NU_NOTA_CH'] = 0\n",
    "sub_df_mt['NU_NOTA_LC'] = 0\n",
    "sub_df_mt['NU_NOTA_MT'] = preds[0]\n",
    "sub_df_mt['NU_NOTA_REDACAO'] = 0"
   ]
  },
  {
   "cell_type": "code",
   "execution_count": 10,
   "id": "487e621e",
   "metadata": {},
   "outputs": [],
   "source": [
    "## predição das notas dos que faltaram na prova de mat./cn\n",
    "\n",
    "pres_lc = test_data[(test_data[['TP_PRESENCA_MT']] == 0).any(axis=1)]\n",
    "pres_lc = pres_lc[pres_lc['TP_PRESENCA_LC'] != 0]\n",
    "\n",
    "X = pres_lc.drop(['NU_INSCRICAO', 'TP_PRESENCA_MT', 'TP_PRESENCA_CN',\n",
    "                  'TP_PRESENCA_CH', 'TP_PRESENCA_LC'], axis=1)\n",
    "\n",
    "\n",
    "sub_df_lc = pd.DataFrame(pres_lc['NU_INSCRICAO'].reset_index(), columns=['NU_INSCRICAO', 'NU_NOTA_CN', 'NU_NOTA_CH',\n",
    "                                                                         'NU_NOTA_LC', 'NU_NOTA_MT',\n",
    "                                                                         'NU_NOTA_REDACAO'])\n",
    "preds = pd.DataFrame(ridge_lc.predict(X))\n",
    "\n",
    "sub_df_lc['NU_NOTA_CN'] = 0\n",
    "sub_df_lc['NU_NOTA_CH'] = preds[0]\n",
    "sub_df_lc['NU_NOTA_LC'] = preds[1]\n",
    "sub_df_lc['NU_NOTA_MT'] = 0\n",
    "sub_df_lc['NU_NOTA_REDACAO'] = 0\n"
   ]
  },
  {
   "cell_type": "code",
   "execution_count": 11,
   "id": "8b5a4833",
   "metadata": {},
   "outputs": [],
   "source": [
    "## atribuindo zero a quem faltou tudo\n",
    "\n",
    "faltantes = test_data[ (test_data[['TP_PRESENCA_MT', 'TP_PRESENCA_CH','TP_PRESENCA_LC', 'TP_PRESENCA_CN']] == 0).all(axis=1)]\n",
    "\n",
    "sub_df_falt = pd.DataFrame(faltantes['NU_INSCRICAO'].reset_index(), columns=['NU_INSCRICAO', 'NU_NOTA_CN', 'NU_NOTA_CH',\n",
    "                                                                         'NU_NOTA_LC', 'NU_NOTA_MT',\n",
    "                                                                         'NU_NOTA_REDACAO'])\n",
    "\n",
    "sub_df_falt['NU_NOTA_CN'] = 0\n",
    "sub_df_falt['NU_NOTA_CH'] = 0\n",
    "sub_df_falt['NU_NOTA_LC'] = 0\n",
    "sub_df_falt['NU_NOTA_MT'] = 0\n",
    "sub_df_falt['NU_NOTA_REDACAO'] = 0\n"
   ]
  },
  {
   "cell_type": "code",
   "execution_count": 12,
   "id": "e27294be",
   "metadata": {},
   "outputs": [],
   "source": [
    "## predição dos que foram eliminados em MT/CN\n",
    "\n",
    "elim_mt = test_data[(test_data[['TP_PRESENCA_MT','TP_PRESENCA_CN']] == 2).all(axis=1)]\n",
    "elim_mt = elim_mt[(elim_mt[['TP_PRESENCA_LC','TP_PRESENCA_CH']] == 1).all(axis=1)]\n",
    "\n",
    "X = elim_mt.drop(['NU_INSCRICAO', 'TP_PRESENCA_MT', 'TP_PRESENCA_CN',\n",
    "                  'TP_PRESENCA_CH', 'TP_PRESENCA_LC','TP_STATUS_REDACAO'], axis=1)\n",
    "\n",
    "\n",
    "sub_df_emt = pd.DataFrame(elim_mt['NU_INSCRICAO'].reset_index(), columns=['NU_INSCRICAO', 'NU_NOTA_CN', 'NU_NOTA_CH',\n",
    "                                                                         'NU_NOTA_LC', 'NU_NOTA_MT',\n",
    "                                                                         'NU_NOTA_REDACAO'])\n",
    "preds = pd.DataFrame(linear_reg.predict(X))\n",
    "\n",
    "ind = elim_mt[elim_mt['TP_STATUS_REDACAO'].apply(lambda x: 0 if x!=1 else 1) == 0]['TP_STATUS_REDACAO'].reset_index().index\n",
    "\n",
    "sub_df_emt['NU_NOTA_CN'] = 0\n",
    "sub_df_emt['NU_NOTA_CH'] = preds[1]\n",
    "sub_df_emt['NU_NOTA_LC'] = preds[2]\n",
    "sub_df_emt['NU_NOTA_MT'] = 0\n",
    "sub_df_emt['NU_NOTA_REDACAO'] = preds[4]\n",
    "sub_df_emt.loc[ind, ['NU_NOTA_REDACAO']] =  0"
   ]
  },
  {
   "cell_type": "code",
   "execution_count": 13,
   "id": "b8040624",
   "metadata": {},
   "outputs": [],
   "source": [
    "## predição dos que foram eliminados em CH/LC\n",
    "\n",
    "elim_lc = test_data[(test_data[['TP_PRESENCA_CH','TP_PRESENCA_LC']] == 2).all(axis=1)]\n",
    "elim_lc = elim_lc[(elim_lc[['TP_PRESENCA_MT','TP_PRESENCA_CN']] == 1).all(axis=1)]\n",
    "\n",
    "X = elim_lc.drop(['NU_INSCRICAO', 'TP_PRESENCA_MT', 'TP_PRESENCA_CN',\n",
    "                  'TP_PRESENCA_CH', 'TP_PRESENCA_LC','TP_STATUS_REDACAO'], axis=1)\n",
    "\n",
    "\n",
    "sub_df_elc = pd.DataFrame(elim_lc['NU_INSCRICAO'].reset_index(), columns=['NU_INSCRICAO', 'NU_NOTA_CN', 'NU_NOTA_CH',\n",
    "                                                                         'NU_NOTA_LC', 'NU_NOTA_MT',\n",
    "                                                                         'NU_NOTA_REDACAO'])\n",
    "preds = pd.DataFrame(linear_reg.predict(X))\n",
    "\n",
    "ind = elim_lc[elim_lc['TP_STATUS_REDACAO'].apply(lambda x: 0 if x!=1 else 1) == 0]['TP_STATUS_REDACAO'].reset_index().index\n",
    "\n",
    "sub_df_elc['NU_NOTA_CN'] = preds[0]\n",
    "sub_df_elc['NU_NOTA_CH'] = 0\n",
    "sub_df_elc['NU_NOTA_LC'] = 0\n",
    "sub_df_elc['NU_NOTA_MT'] = preds[3]\n",
    "sub_df_elc['NU_NOTA_REDACAO'] = preds[4]\n",
    "sub_df_elc.loc[ind, ['NU_NOTA_REDACAO']] =  0\n"
   ]
  },
  {
   "cell_type": "code",
   "execution_count": 14,
   "id": "7862619d",
   "metadata": {},
   "outputs": [],
   "source": [
    "## candidato eliminado em todas\n",
    "\n",
    "full_2 = test_data[(test_data[['TP_PRESENCA_CH','TP_PRESENCA_LC']] == 2).all(axis=1)]\n",
    "full_2 = full_2[(full_2[['TP_PRESENCA_MT','TP_PRESENCA_CN']] == 2).all(axis=1)]\n",
    "\n",
    "sub_full_2 = pd.DataFrame(full_2['NU_INSCRICAO'].reset_index(), columns=['NU_INSCRICAO', 'NU_NOTA_CN', 'NU_NOTA_CH',\n",
    "                                                                         'NU_NOTA_LC', 'NU_NOTA_MT',\n",
    "                                                                         'NU_NOTA_REDACAO'])\n",
    "sub_full_2['NU_NOTA_CN'] = 0\n",
    "sub_full_2['NU_NOTA_CH'] = 0\n",
    "sub_full_2['NU_NOTA_LC'] = 0\n",
    "sub_full_2['NU_NOTA_MT'] = 0\n",
    "sub_full_2['NU_NOTA_REDACAO'] = 0"
   ]
  },
  {
   "cell_type": "code",
   "execution_count": 15,
   "id": "d12770f5",
   "metadata": {},
   "outputs": [],
   "source": [
    "now = pd.concat( [sub_df_presentes,\n",
    "             sub_df_mt,\n",
    "             sub_df_lc,\n",
    "             sub_df_falt,\n",
    "             sub_df_emt,\n",
    "             sub_df_elc,\n",
    "             sub_full_2] )\n"
   ]
  },
  {
   "cell_type": "code",
   "execution_count": 16,
   "id": "2bc7459e",
   "metadata": {},
   "outputs": [],
   "source": [
    "with open('sub_results.csv', 'w') as outFile:\n",
    "    now.to_csv(outFile, index=False)"
   ]
  },
  {
   "cell_type": "code",
   "execution_count": null,
   "id": "6dcc7da3",
   "metadata": {},
   "outputs": [],
   "source": []
  },
  {
   "cell_type": "code",
   "execution_count": null,
   "id": "cb36ed86",
   "metadata": {},
   "outputs": [],
   "source": []
  },
  {
   "cell_type": "code",
   "execution_count": null,
   "id": "3df08cac",
   "metadata": {},
   "outputs": [],
   "source": []
  }
 ],
 "metadata": {
  "kernelspec": {
   "display_name": "Python 3 (ipykernel)",
   "language": "python",
   "name": "python3"
  },
  "language_info": {
   "codemirror_mode": {
    "name": "ipython",
    "version": 3
   },
   "file_extension": ".py",
   "mimetype": "text/x-python",
   "name": "python",
   "nbconvert_exporter": "python",
   "pygments_lexer": "ipython3",
   "version": "3.7.11"
  }
 },
 "nbformat": 4,
 "nbformat_minor": 5
}
