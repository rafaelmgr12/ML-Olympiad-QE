{
 "cells": [
  {
   "cell_type": "code",
   "execution_count": 3,
   "metadata": {},
   "outputs": [],
   "source": [
    "import pandas as pd\n",
    "\n",
    "import matplotlib.pyplot as plt\n",
    "from seaborn import barplot\n",
    "from seaborn import distplot"
   ]
  },
  {
   "cell_type": "code",
   "execution_count": 4,
   "metadata": {},
   "outputs": [
    {
     "data": {
      "image/png": "[encoded data removed]",
      "text/plain": [
       "<Figure size 720x360 with 2 Axes>"
      ]
     },
     "metadata": {
      "needs_background": "light"
     },
     "output_type": "display_data"
    }
   ],
   "source": [
    "## --- EDA\n",
    "fig, ax = plt.subplots(1,2, figsize=(10,5))\n",
    "\n",
    "for axes, qn in zip(ax.reshape(-1), ['Q01_2','Q03_4']):\n",
    "    data = pd.read_csv( 'to_train.csv', usecols=['NU_MED_NOTAS',qn] )\n",
    "    barplot(x=qn, y='NU_MED_NOTAS',\n",
    "            data=data, \n",
    "            order=data[qn].sort_values().unique(),\n",
    "            ax= axes)\n",
    "    axes.set_ylabel('NU_MED_NOTAS')\n",
    "    axes.set_xlabel(qn)"
   ]
  },
  {
   "cell_type": "code",
   "execution_count": null,
   "metadata": {},
   "outputs": [],
   "source": [
    "fig, ax = plt.subplots(1,2, figsize=(10,5))\n",
    "\n",
    "for axes, qn in zip(ax.reshape(-1), ['Q005','Q006']):\n",
    "    data = pd.read_csv( 'to_train.csv', usecols=['NU_MED_NOTAS',qn] )\n",
    "    barplot(x=qn, y='NU_MED_NOTAS',\n",
    "            data=data, \n",
    "            order=data[qn].sort_values().unique(),\n",
    "            ax=axes)\n",
    "    axes.set_ylabel('NU_MED_NOTAS')\n",
    "    axes.set_xlabel(qn)"
   ]
  },
  {
   "cell_type": "code",
   "execution_count": null,
   "metadata": {},
   "outputs": [],
   "source": [
    "fig, ax = plt.subplots(1,2, figsize=(10,5))\n",
    "\n",
    "for axes, qn in zip(ax.reshape(-1), ['Q007','Q08_9']):\n",
    "    data = pd.read_csv( 'to_train.csv', usecols=['NU_MED_NOTAS',qn] )\n",
    "    barplot(x=qn, y='NU_MED_NOTAS',\n",
    "            data=data, \n",
    "            order=data[qn].sort_values().unique(),\n",
    "            ax= axes)\n",
    "    axes.set_ylabel('NU_MED_NOTAS')\n",
    "    axes.set_xlabel(qn)"
   ]
  },
  {
   "cell_type": "code",
   "execution_count": null,
   "metadata": {},
   "outputs": [],
   "source": [
    "fig, ax = plt.subplots(1,2, figsize=(10,5))\n",
    "\n",
    "for axes, qn in zip(ax.reshape(-1), ['Q010_11','Q012_13']):\n",
    "    data = pd.read_csv( 'to_train.csv',usecols=['NU_MED_NOTAS',qn] )\n",
    "    barplot(x=qn, y='NU_MED_NOTAS',\n",
    "            data=data, \n",
    "            order=data[qn].sort_values().unique(),\n",
    "            ax= axes)\n",
    "    axes.set_ylabel('NU_MED_NOTAS')\n",
    "    axes.set_xlabel(qn)"
   ]
  },
  {
   "cell_type": "code",
   "execution_count": null,
   "metadata": {},
   "outputs": [],
   "source": [
    "fig, ax = plt.subplots(1,2, figsize=(10,5))\n",
    "\n",
    "for axes, qn in zip(ax.reshape(-1), ['Q014_15','Q016_17']):\n",
    "    data = pd.read_csv( 'to_train.csv', usecols=['NU_MED_NOTAS',qn] )\n",
    "    barplot(x=qn, y='NU_MED_NOTAS',\n",
    "            data=data, \n",
    "            order=data[qn].sort_values().unique(),\n",
    "            ax= axes)\n",
    "    axes.set_ylabel('NU_MED_NOTAS')\n",
    "    axes.set_xlabel(qn)"
   ]
  },
  {
   "cell_type": "code",
   "execution_count": null,
   "metadata": {},
   "outputs": [],
   "source": [
    "fig, ax = plt.subplots(1,2, figsize=(10,5))\n",
    "\n",
    "for axes, qn in zip(ax.reshape(-1), ['S/N','Q019']):\n",
    "    data = pd.read_csv( 'to_train.csv', usecols=['NU_MED_NOTAS',qn] )\n",
    "    barplot(x=qn, y='NU_MED_NOTAS',\n",
    "            data=data, \n",
    "            order=data[qn].sort_values().unique(),\n",
    "            ax= axes)\n",
    "    axes.set_ylabel('NU_MED_NOTAS')\n",
    "    axes.set_xlabel(qn)"
   ]
  },
  {
   "cell_type": "code",
   "execution_count": null,
   "metadata": {},
   "outputs": [],
   "source": [
    "fig, ax = plt.subplots(1,1, figsize=(5,5))\n",
    "\n",
    "axes, qn = (ax, 'Q022_24')\n",
    "data = pd.read_csv( 'to_train.csv', usecols=['NU_MED_NOTAS',qn] )\n",
    "barplot(x=qn, y='NU_MED_NOTAS',\n",
    "        data=data, \n",
    "        order=data[qn].sort_values().unique(),\n",
    "        ax= axes)\n",
    "axes.set_ylabel('NU_MED_NOTAS')\n",
    "axes.set_xlabel(qn)"
   ]
  }
 ],
 "metadata": {
  "kernelspec": {
   "display_name": "Python 3",
   "language": "python",
   "name": "python3"
  },
  "language_info": {
   "codemirror_mode": {
    "name": "ipython",
    "version": 3
   },
   "file_extension": ".py",
   "mimetype": "text/x-python",
   "name": "python",
   "nbconvert_exporter": "python",
   "pygments_lexer": "ipython3",
   "version": "3.7.6"
  }
 },
 "nbformat": 4,
 "nbformat_minor": 4
}
